{
  "cells": [
    {
      "cell_type": "code",
      "execution_count": null,
      "id": "08a67896-4f0a-46ef-ba66-7bf6666e59fd",
      "metadata": {
        "id": "08a67896-4f0a-46ef-ba66-7bf6666e59fd"
      },
      "outputs": [],
      "source": [
        "import numpy as np\n",
        "import pandas as pd\n",
        "import matplotlib.pyplot as plt\n",
        "from sklearn.linear_model import LinearRegression\n",
        "from sklearn.model_selection import train_test_split\n",
        "from sklearn.metrics import r2_score, mean_squared_error\n",
        "import seaborn as sns\n",
        "%matplotlib inline\n",
        "%load_ext autoreload\n",
        "%autoreload 2"
      ]
    },
    {
      "cell_type": "markdown",
      "id": "RsWI5igvJK6T",
      "metadata": {
        "id": "RsWI5igvJK6T"
      },
      "source": [
        "# Data Preparation"
      ]
    },
    {
      "cell_type": "markdown",
      "id": "fyDhdlwq7J2S",
      "metadata": {
        "id": "fyDhdlwq7J2S"
      },
      "source": [
        "## Load Dataframes"
      ]
    },
    {
      "cell_type": "code",
      "execution_count": null,
      "id": "sMIUpIVE0ZwM",
      "metadata": {
        "id": "sMIUpIVE0ZwM"
      },
      "outputs": [],
      "source": [
        "# Set the proper paths to open the Boston dataset\n",
        "boston_listing = pd.read_csv('Boston_listings.csv')\n",
        "boston_review = pd.read_csv('Boston_reviews.csv')"
      ]
    },
    {
      "cell_type": "code",
      "execution_count": null,
      "id": "23889430-c853-4b13-b09a-8b0fb0bee24a",
      "metadata": {
        "colab": {
          "base_uri": "https://localhost:8080/",
          "height": 786
        },
        "id": "23889430-c853-4b13-b09a-8b0fb0bee24a",
        "outputId": "1614b9ad-c76d-4b53-9157-73a40ca69c8c"
      },
      "outputs": [
        {
          "name": "stdout",
          "output_type": "stream",
          "text": [
            "(3585, 95)\n"
          ]
        },
        {
          "data": {
            "text/html": [
              "<div>\n",
              "<style scoped>\n",
              "    .dataframe tbody tr th:only-of-type {\n",
              "        vertical-align: middle;\n",
              "    }\n",
              "\n",
              "    .dataframe tbody tr th {\n",
              "        vertical-align: top;\n",
              "    }\n",
              "\n",
              "    .dataframe thead th {\n",
              "        text-align: right;\n",
              "    }\n",
              "</style>\n",
              "<table border=\"1\" class=\"dataframe\">\n",
              "  <thead>\n",
              "    <tr style=\"text-align: right;\">\n",
              "      <th></th>\n",
              "      <th>id</th>\n",
              "      <th>listing_url</th>\n",
              "      <th>scrape_id</th>\n",
              "      <th>last_scraped</th>\n",
              "      <th>name</th>\n",
              "      <th>summary</th>\n",
              "      <th>space</th>\n",
              "      <th>description</th>\n",
              "      <th>experiences_offered</th>\n",
              "      <th>neighborhood_overview</th>\n",
              "      <th>...</th>\n",
              "      <th>review_scores_value</th>\n",
              "      <th>requires_license</th>\n",
              "      <th>license</th>\n",
              "      <th>jurisdiction_names</th>\n",
              "      <th>instant_bookable</th>\n",
              "      <th>cancellation_policy</th>\n",
              "      <th>require_guest_profile_picture</th>\n",
              "      <th>require_guest_phone_verification</th>\n",
              "      <th>calculated_host_listings_count</th>\n",
              "      <th>reviews_per_month</th>\n",
              "    </tr>\n",
              "  </thead>\n",
              "  <tbody>\n",
              "    <tr>\n",
              "      <th>0</th>\n",
              "      <td>12147973</td>\n",
              "      <td>https://www.airbnb.com/rooms/12147973</td>\n",
              "      <td>20160906204935</td>\n",
              "      <td>2016-09-07</td>\n",
              "      <td>Sunny Bungalow in the City</td>\n",
              "      <td>Cozy, sunny, family home.  Master bedroom high...</td>\n",
              "      <td>The house has an open and cozy feel at the sam...</td>\n",
              "      <td>Cozy, sunny, family home.  Master bedroom high...</td>\n",
              "      <td>none</td>\n",
              "      <td>Roslindale is quiet, convenient and friendly. ...</td>\n",
              "      <td>...</td>\n",
              "      <td>NaN</td>\n",
              "      <td>f</td>\n",
              "      <td>NaN</td>\n",
              "      <td>NaN</td>\n",
              "      <td>f</td>\n",
              "      <td>moderate</td>\n",
              "      <td>f</td>\n",
              "      <td>f</td>\n",
              "      <td>1</td>\n",
              "      <td>NaN</td>\n",
              "    </tr>\n",
              "    <tr>\n",
              "      <th>1</th>\n",
              "      <td>3075044</td>\n",
              "      <td>https://www.airbnb.com/rooms/3075044</td>\n",
              "      <td>20160906204935</td>\n",
              "      <td>2016-09-07</td>\n",
              "      <td>Charming room in pet friendly apt</td>\n",
              "      <td>Charming and quiet room in a second floor 1910...</td>\n",
              "      <td>Small but cozy and quite room with a full size...</td>\n",
              "      <td>Charming and quiet room in a second floor 1910...</td>\n",
              "      <td>none</td>\n",
              "      <td>The room is in Roslindale, a diverse and prima...</td>\n",
              "      <td>...</td>\n",
              "      <td>9.0</td>\n",
              "      <td>f</td>\n",
              "      <td>NaN</td>\n",
              "      <td>NaN</td>\n",
              "      <td>t</td>\n",
              "      <td>moderate</td>\n",
              "      <td>f</td>\n",
              "      <td>f</td>\n",
              "      <td>1</td>\n",
              "      <td>1.30</td>\n",
              "    </tr>\n",
              "    <tr>\n",
              "      <th>2</th>\n",
              "      <td>6976</td>\n",
              "      <td>https://www.airbnb.com/rooms/6976</td>\n",
              "      <td>20160906204935</td>\n",
              "      <td>2016-09-07</td>\n",
              "      <td>Mexican Folk Art Haven in Boston</td>\n",
              "      <td>Come stay with a friendly, middle-aged guy in ...</td>\n",
              "      <td>Come stay with a friendly, middle-aged guy in ...</td>\n",
              "      <td>Come stay with a friendly, middle-aged guy in ...</td>\n",
              "      <td>none</td>\n",
              "      <td>The LOCATION: Roslindale is a safe and diverse...</td>\n",
              "      <td>...</td>\n",
              "      <td>10.0</td>\n",
              "      <td>f</td>\n",
              "      <td>NaN</td>\n",
              "      <td>NaN</td>\n",
              "      <td>f</td>\n",
              "      <td>moderate</td>\n",
              "      <td>t</td>\n",
              "      <td>f</td>\n",
              "      <td>1</td>\n",
              "      <td>0.47</td>\n",
              "    </tr>\n",
              "    <tr>\n",
              "      <th>3</th>\n",
              "      <td>1436513</td>\n",
              "      <td>https://www.airbnb.com/rooms/1436513</td>\n",
              "      <td>20160906204935</td>\n",
              "      <td>2016-09-07</td>\n",
              "      <td>Spacious Sunny Bedroom Suite in Historic Home</td>\n",
              "      <td>Come experience the comforts of home away from...</td>\n",
              "      <td>Most places you find in Boston are small howev...</td>\n",
              "      <td>Come experience the comforts of home away from...</td>\n",
              "      <td>none</td>\n",
              "      <td>Roslindale is a lovely little neighborhood loc...</td>\n",
              "      <td>...</td>\n",
              "      <td>10.0</td>\n",
              "      <td>f</td>\n",
              "      <td>NaN</td>\n",
              "      <td>NaN</td>\n",
              "      <td>f</td>\n",
              "      <td>moderate</td>\n",
              "      <td>f</td>\n",
              "      <td>f</td>\n",
              "      <td>1</td>\n",
              "      <td>1.00</td>\n",
              "    </tr>\n",
              "    <tr>\n",
              "      <th>4</th>\n",
              "      <td>7651065</td>\n",
              "      <td>https://www.airbnb.com/rooms/7651065</td>\n",
              "      <td>20160906204935</td>\n",
              "      <td>2016-09-07</td>\n",
              "      <td>Come Home to Boston</td>\n",
              "      <td>My comfy, clean and relaxing home is one block...</td>\n",
              "      <td>Clean, attractive, private room, one block fro...</td>\n",
              "      <td>My comfy, clean and relaxing home is one block...</td>\n",
              "      <td>none</td>\n",
              "      <td>I love the proximity to downtown, the neighbor...</td>\n",
              "      <td>...</td>\n",
              "      <td>10.0</td>\n",
              "      <td>f</td>\n",
              "      <td>NaN</td>\n",
              "      <td>NaN</td>\n",
              "      <td>f</td>\n",
              "      <td>flexible</td>\n",
              "      <td>f</td>\n",
              "      <td>f</td>\n",
              "      <td>1</td>\n",
              "      <td>2.25</td>\n",
              "    </tr>\n",
              "  </tbody>\n",
              "</table>\n",
              "<p>5 rows × 95 columns</p>\n",
              "</div>"
            ],
            "text/plain": [
              "         id                            listing_url       scrape_id  \\\n",
              "0  12147973  https://www.airbnb.com/rooms/12147973  20160906204935   \n",
              "1   3075044   https://www.airbnb.com/rooms/3075044  20160906204935   \n",
              "2      6976      https://www.airbnb.com/rooms/6976  20160906204935   \n",
              "3   1436513   https://www.airbnb.com/rooms/1436513  20160906204935   \n",
              "4   7651065   https://www.airbnb.com/rooms/7651065  20160906204935   \n",
              "\n",
              "  last_scraped                                           name  \\\n",
              "0   2016-09-07                     Sunny Bungalow in the City   \n",
              "1   2016-09-07              Charming room in pet friendly apt   \n",
              "2   2016-09-07               Mexican Folk Art Haven in Boston   \n",
              "3   2016-09-07  Spacious Sunny Bedroom Suite in Historic Home   \n",
              "4   2016-09-07                            Come Home to Boston   \n",
              "\n",
              "                                             summary  \\\n",
              "0  Cozy, sunny, family home.  Master bedroom high...   \n",
              "1  Charming and quiet room in a second floor 1910...   \n",
              "2  Come stay with a friendly, middle-aged guy in ...   \n",
              "3  Come experience the comforts of home away from...   \n",
              "4  My comfy, clean and relaxing home is one block...   \n",
              "\n",
              "                                               space  \\\n",
              "0  The house has an open and cozy feel at the sam...   \n",
              "1  Small but cozy and quite room with a full size...   \n",
              "2  Come stay with a friendly, middle-aged guy in ...   \n",
              "3  Most places you find in Boston are small howev...   \n",
              "4  Clean, attractive, private room, one block fro...   \n",
              "\n",
              "                                         description experiences_offered  \\\n",
              "0  Cozy, sunny, family home.  Master bedroom high...                none   \n",
              "1  Charming and quiet room in a second floor 1910...                none   \n",
              "2  Come stay with a friendly, middle-aged guy in ...                none   \n",
              "3  Come experience the comforts of home away from...                none   \n",
              "4  My comfy, clean and relaxing home is one block...                none   \n",
              "\n",
              "                               neighborhood_overview  ... review_scores_value  \\\n",
              "0  Roslindale is quiet, convenient and friendly. ...  ...                 NaN   \n",
              "1  The room is in Roslindale, a diverse and prima...  ...                 9.0   \n",
              "2  The LOCATION: Roslindale is a safe and diverse...  ...                10.0   \n",
              "3  Roslindale is a lovely little neighborhood loc...  ...                10.0   \n",
              "4  I love the proximity to downtown, the neighbor...  ...                10.0   \n",
              "\n",
              "  requires_license license jurisdiction_names instant_bookable  \\\n",
              "0                f     NaN                NaN                f   \n",
              "1                f     NaN                NaN                t   \n",
              "2                f     NaN                NaN                f   \n",
              "3                f     NaN                NaN                f   \n",
              "4                f     NaN                NaN                f   \n",
              "\n",
              "  cancellation_policy require_guest_profile_picture  \\\n",
              "0            moderate                             f   \n",
              "1            moderate                             f   \n",
              "2            moderate                             t   \n",
              "3            moderate                             f   \n",
              "4            flexible                             f   \n",
              "\n",
              "  require_guest_phone_verification calculated_host_listings_count  \\\n",
              "0                                f                              1   \n",
              "1                                f                              1   \n",
              "2                                f                              1   \n",
              "3                                f                              1   \n",
              "4                                f                              1   \n",
              "\n",
              "   reviews_per_month  \n",
              "0                NaN  \n",
              "1               1.30  \n",
              "2               0.47  \n",
              "3               1.00  \n",
              "4               2.25  \n",
              "\n",
              "[5 rows x 95 columns]"
            ]
          },
          "execution_count": 5,
          "metadata": {},
          "output_type": "execute_result"
        }
      ],
      "source": [
        "print(boston_listing.shape)\n",
        "boston_listing.head(5)"
      ]
    },
    {
      "cell_type": "code",
      "execution_count": null,
      "id": "31830cff-0db5-41d7-be7c-5ee0ada42780",
      "metadata": {
        "colab": {
          "base_uri": "https://localhost:8080/",
          "height": 224
        },
        "id": "31830cff-0db5-41d7-be7c-5ee0ada42780",
        "outputId": "6ec08c65-33f0-4cbf-edcb-f0897a17c12b"
      },
      "outputs": [
        {
          "name": "stdout",
          "output_type": "stream",
          "text": [
            "(68275, 6)\n"
          ]
        },
        {
          "data": {
            "text/html": [
              "<div>\n",
              "<style scoped>\n",
              "    .dataframe tbody tr th:only-of-type {\n",
              "        vertical-align: middle;\n",
              "    }\n",
              "\n",
              "    .dataframe tbody tr th {\n",
              "        vertical-align: top;\n",
              "    }\n",
              "\n",
              "    .dataframe thead th {\n",
              "        text-align: right;\n",
              "    }\n",
              "</style>\n",
              "<table border=\"1\" class=\"dataframe\">\n",
              "  <thead>\n",
              "    <tr style=\"text-align: right;\">\n",
              "      <th></th>\n",
              "      <th>listing_id</th>\n",
              "      <th>id</th>\n",
              "      <th>date</th>\n",
              "      <th>reviewer_id</th>\n",
              "      <th>reviewer_name</th>\n",
              "      <th>comments</th>\n",
              "    </tr>\n",
              "  </thead>\n",
              "  <tbody>\n",
              "    <tr>\n",
              "      <th>0</th>\n",
              "      <td>1178162</td>\n",
              "      <td>4724140</td>\n",
              "      <td>2013-05-21</td>\n",
              "      <td>4298113</td>\n",
              "      <td>Olivier</td>\n",
              "      <td>My stay at islam's place was really cool! Good...</td>\n",
              "    </tr>\n",
              "    <tr>\n",
              "      <th>1</th>\n",
              "      <td>1178162</td>\n",
              "      <td>4869189</td>\n",
              "      <td>2013-05-29</td>\n",
              "      <td>6452964</td>\n",
              "      <td>Charlotte</td>\n",
              "      <td>Great location for both airport and city - gre...</td>\n",
              "    </tr>\n",
              "    <tr>\n",
              "      <th>2</th>\n",
              "      <td>1178162</td>\n",
              "      <td>5003196</td>\n",
              "      <td>2013-06-06</td>\n",
              "      <td>6449554</td>\n",
              "      <td>Sebastian</td>\n",
              "      <td>We really enjoyed our stay at Islams house. Fr...</td>\n",
              "    </tr>\n",
              "    <tr>\n",
              "      <th>3</th>\n",
              "      <td>1178162</td>\n",
              "      <td>5150351</td>\n",
              "      <td>2013-06-15</td>\n",
              "      <td>2215611</td>\n",
              "      <td>Marine</td>\n",
              "      <td>The room was nice and clean and so were the co...</td>\n",
              "    </tr>\n",
              "    <tr>\n",
              "      <th>4</th>\n",
              "      <td>1178162</td>\n",
              "      <td>5171140</td>\n",
              "      <td>2013-06-16</td>\n",
              "      <td>6848427</td>\n",
              "      <td>Andrew</td>\n",
              "      <td>Great location. Just 5 mins walk from the Airp...</td>\n",
              "    </tr>\n",
              "  </tbody>\n",
              "</table>\n",
              "</div>"
            ],
            "text/plain": [
              "   listing_id       id        date  reviewer_id reviewer_name  \\\n",
              "0     1178162  4724140  2013-05-21      4298113       Olivier   \n",
              "1     1178162  4869189  2013-05-29      6452964     Charlotte   \n",
              "2     1178162  5003196  2013-06-06      6449554     Sebastian   \n",
              "3     1178162  5150351  2013-06-15      2215611        Marine   \n",
              "4     1178162  5171140  2013-06-16      6848427        Andrew   \n",
              "\n",
              "                                            comments  \n",
              "0  My stay at islam's place was really cool! Good...  \n",
              "1  Great location for both airport and city - gre...  \n",
              "2  We really enjoyed our stay at Islams house. Fr...  \n",
              "3  The room was nice and clean and so were the co...  \n",
              "4  Great location. Just 5 mins walk from the Airp...  "
            ]
          },
          "execution_count": 6,
          "metadata": {},
          "output_type": "execute_result"
        }
      ],
      "source": [
        "print(boston_review.shape)\n",
        "boston_review.head(5)"
      ]
    },
    {
      "cell_type": "code",
      "execution_count": null,
      "id": "31a7792b-590e-49ec-b173-0818cbe3d59c",
      "metadata": {
        "colab": {
          "base_uri": "https://localhost:8080/"
        },
        "id": "31a7792b-590e-49ec-b173-0818cbe3d59c",
        "outputId": "6c697e0d-13ba-4546-fdb8-72dcfac09bab"
      },
      "outputs": [
        {
          "name": "stdout",
          "output_type": "stream",
          "text": [
            "0       $250.00\n",
            "1        $65.00\n",
            "2        $65.00\n",
            "3        $75.00\n",
            "4        $79.00\n",
            "         ...   \n",
            "3580     $69.00\n",
            "3581    $150.00\n",
            "3582    $198.00\n",
            "3583     $65.00\n",
            "3584     $65.00\n",
            "Name: price, Length: 3585, dtype: object\n"
          ]
        }
      ],
      "source": [
        "print(boston_listing['price'])"
      ]
    },
    {
      "cell_type": "markdown",
      "id": "RPwLvpQI7Nha",
      "metadata": {
        "id": "RPwLvpQI7Nha"
      },
      "source": [
        "## Convert data types\n",
        "\n",
        "* Date string to `pd.Datetime`\n",
        "* Currency string, e.g. `$1,000.00`, to number"
      ]
    },
    {
      "cell_type": "code",
      "execution_count": null,
      "id": "43YTD7W17yuo",
      "metadata": {
        "id": "43YTD7W17yuo"
      },
      "outputs": [],
      "source": [
        "# pass in pattern is a regualr expression\n",
        "\n",
        "boston_listing['price'] = boston_listing['price'].str.replace('[^-.0-9]', '', regex=True).astype(float)\n"
      ]
    },
    {
      "cell_type": "code",
      "execution_count": null,
      "id": "uPb3dFJ38QuZ",
      "metadata": {
        "colab": {
          "base_uri": "https://localhost:8080/"
        },
        "id": "uPb3dFJ38QuZ",
        "outputId": "75519d41-50b8-4d07-c84f-d9f304474332"
      },
      "outputs": [
        {
          "data": {
            "text/plain": [
              "0       250.0\n",
              "1        65.0\n",
              "2        65.0\n",
              "3        75.0\n",
              "4        79.0\n",
              "        ...  \n",
              "3580     69.0\n",
              "3581    150.0\n",
              "3582    198.0\n",
              "3583     65.0\n",
              "3584     65.0\n",
              "Name: price, Length: 3585, dtype: float64"
            ]
          },
          "execution_count": 9,
          "metadata": {},
          "output_type": "execute_result"
        }
      ],
      "source": [
        "boston_listing['price']"
      ]
    },
    {
      "cell_type": "code",
      "execution_count": null,
      "id": "b88656db-e170-4893-81ea-a36b2fe052f2",
      "metadata": {
        "colab": {
          "base_uri": "https://localhost:8080/"
        },
        "id": "b88656db-e170-4893-81ea-a36b2fe052f2",
        "outputId": "e15bb061-2577-4181-a6bc-5b0c2baf224b"
      },
      "outputs": [
        {
          "name": "stdout",
          "output_type": "stream",
          "text": [
            "0        2013-05-21\n",
            "1        2013-05-29\n",
            "2        2013-06-06\n",
            "3        2013-06-15\n",
            "4        2013-06-16\n",
            "            ...    \n",
            "68270    2016-06-18\n",
            "68271    2016-07-03\n",
            "68272    2016-07-13\n",
            "68273    2016-08-26\n",
            "68274    2016-08-31\n",
            "Name: date, Length: 68275, dtype: object\n"
          ]
        }
      ],
      "source": [
        "print(boston_review['date'])"
      ]
    },
    {
      "cell_type": "code",
      "execution_count": null,
      "id": "9tzWwT4m7Ff6",
      "metadata": {
        "id": "9tzWwT4m7Ff6"
      },
      "outputs": [],
      "source": [
        "boston_review['date'] = pd.to_datetime(boston_review['date'])"
      ]
    },
    {
      "cell_type": "code",
      "execution_count": null,
      "id": "vZ8aOAGM8Sxr",
      "metadata": {
        "colab": {
          "base_uri": "https://localhost:8080/"
        },
        "id": "vZ8aOAGM8Sxr",
        "outputId": "2d1daa64-e490-44a6-f5e1-fa94a8445dfb"
      },
      "outputs": [
        {
          "data": {
            "text/plain": [
              "0       2013-05-21\n",
              "1       2013-05-29\n",
              "2       2013-06-06\n",
              "3       2013-06-15\n",
              "4       2013-06-16\n",
              "           ...    \n",
              "68270   2016-06-18\n",
              "68271   2016-07-03\n",
              "68272   2016-07-13\n",
              "68273   2016-08-26\n",
              "68274   2016-08-31\n",
              "Name: date, Length: 68275, dtype: datetime64[ns]"
            ]
          },
          "execution_count": 12,
          "metadata": {},
          "output_type": "execute_result"
        }
      ],
      "source": [
        "boston_review['date']"
      ]
    },
    {
      "cell_type": "markdown",
      "id": "1OYBAUgo8Ukz",
      "metadata": {
        "id": "1OYBAUgo8Ukz",
        "tags": []
      },
      "source": [
        "## Join listings and reviews"
      ]
    },
    {
      "cell_type": "code",
      "execution_count": null,
      "id": "LgYxSNn68ZgI",
      "metadata": {
        "id": "LgYxSNn68ZgI"
      },
      "outputs": [],
      "source": [
        "boston_df = pd.merge(boston_listing, boston_review, left_on='id', right_on='listing_id')\n",
        "boston_df = boston_df.rename(columns = { 'id_y': 'review_id' })"
      ]
    },
    {
      "cell_type": "code",
      "execution_count": null,
      "id": "h9DPoEayCLmW",
      "metadata": {
        "colab": {
          "base_uri": "https://localhost:8080/",
          "height": 394
        },
        "id": "h9DPoEayCLmW",
        "outputId": "a3b481b2-6ce8-40f8-9f80-6a269a0cb3a3"
      },
      "outputs": [
        {
          "data": {
            "text/html": [
              "<div>\n",
              "<style scoped>\n",
              "    .dataframe tbody tr th:only-of-type {\n",
              "        vertical-align: middle;\n",
              "    }\n",
              "\n",
              "    .dataframe tbody tr th {\n",
              "        vertical-align: top;\n",
              "    }\n",
              "\n",
              "    .dataframe thead th {\n",
              "        text-align: right;\n",
              "    }\n",
              "</style>\n",
              "<table border=\"1\" class=\"dataframe\">\n",
              "  <thead>\n",
              "    <tr style=\"text-align: right;\">\n",
              "      <th></th>\n",
              "      <th>id_x</th>\n",
              "      <th>scrape_id</th>\n",
              "      <th>host_id</th>\n",
              "      <th>host_listings_count</th>\n",
              "      <th>host_total_listings_count</th>\n",
              "      <th>neighbourhood_group_cleansed</th>\n",
              "      <th>latitude</th>\n",
              "      <th>longitude</th>\n",
              "      <th>accommodates</th>\n",
              "      <th>bathrooms</th>\n",
              "      <th>...</th>\n",
              "      <th>review_scores_communication</th>\n",
              "      <th>review_scores_location</th>\n",
              "      <th>review_scores_value</th>\n",
              "      <th>license</th>\n",
              "      <th>jurisdiction_names</th>\n",
              "      <th>calculated_host_listings_count</th>\n",
              "      <th>reviews_per_month</th>\n",
              "      <th>listing_id</th>\n",
              "      <th>review_id</th>\n",
              "      <th>reviewer_id</th>\n",
              "    </tr>\n",
              "  </thead>\n",
              "  <tbody>\n",
              "    <tr>\n",
              "      <th>count</th>\n",
              "      <td>6.827500e+04</td>\n",
              "      <td>6.827500e+04</td>\n",
              "      <td>6.827500e+04</td>\n",
              "      <td>68275.000000</td>\n",
              "      <td>68275.000000</td>\n",
              "      <td>0.0</td>\n",
              "      <td>68275.000000</td>\n",
              "      <td>68275.000000</td>\n",
              "      <td>68275.000000</td>\n",
              "      <td>67510.000000</td>\n",
              "      <td>...</td>\n",
              "      <td>68202.000000</td>\n",
              "      <td>68197.000000</td>\n",
              "      <td>68199.000000</td>\n",
              "      <td>0.0</td>\n",
              "      <td>0.0</td>\n",
              "      <td>68275.000000</td>\n",
              "      <td>68275.000000</td>\n",
              "      <td>6.827500e+04</td>\n",
              "      <td>6.827500e+04</td>\n",
              "      <td>6.827500e+04</td>\n",
              "    </tr>\n",
              "    <tr>\n",
              "      <th>mean</th>\n",
              "      <td>4.759910e+06</td>\n",
              "      <td>2.016091e+13</td>\n",
              "      <td>1.444614e+07</td>\n",
              "      <td>13.972830</td>\n",
              "      <td>13.972830</td>\n",
              "      <td>NaN</td>\n",
              "      <td>42.338246</td>\n",
              "      <td>-71.080348</td>\n",
              "      <td>3.035269</td>\n",
              "      <td>1.197571</td>\n",
              "      <td>...</td>\n",
              "      <td>9.703953</td>\n",
              "      <td>9.361145</td>\n",
              "      <td>9.234564</td>\n",
              "      <td>NaN</td>\n",
              "      <td>NaN</td>\n",
              "      <td>5.141721</td>\n",
              "      <td>3.669015</td>\n",
              "      <td>4.759910e+06</td>\n",
              "      <td>5.246516e+07</td>\n",
              "      <td>2.802389e+07</td>\n",
              "    </tr>\n",
              "    <tr>\n",
              "      <th>std</th>\n",
              "      <td>3.788990e+06</td>\n",
              "      <td>0.000000e+00</td>\n",
              "      <td>1.635912e+07</td>\n",
              "      <td>66.806719</td>\n",
              "      <td>66.806719</td>\n",
              "      <td>NaN</td>\n",
              "      <td>0.026307</td>\n",
              "      <td>0.032852</td>\n",
              "      <td>1.797994</td>\n",
              "      <td>0.454646</td>\n",
              "      <td>...</td>\n",
              "      <td>0.514301</td>\n",
              "      <td>0.721928</td>\n",
              "      <td>0.649583</td>\n",
              "      <td>NaN</td>\n",
              "      <td>NaN</td>\n",
              "      <td>10.991914</td>\n",
              "      <td>2.492277</td>\n",
              "      <td>3.788990e+06</td>\n",
              "      <td>2.790991e+07</td>\n",
              "      <td>2.234097e+07</td>\n",
              "    </tr>\n",
              "    <tr>\n",
              "      <th>min</th>\n",
              "      <td>3.353000e+03</td>\n",
              "      <td>2.016091e+13</td>\n",
              "      <td>4.240000e+03</td>\n",
              "      <td>1.000000</td>\n",
              "      <td>1.000000</td>\n",
              "      <td>NaN</td>\n",
              "      <td>42.235942</td>\n",
              "      <td>-71.171469</td>\n",
              "      <td>1.000000</td>\n",
              "      <td>0.000000</td>\n",
              "      <td>...</td>\n",
              "      <td>4.000000</td>\n",
              "      <td>2.000000</td>\n",
              "      <td>2.000000</td>\n",
              "      <td>NaN</td>\n",
              "      <td>NaN</td>\n",
              "      <td>1.000000</td>\n",
              "      <td>0.010000</td>\n",
              "      <td>3.353000e+03</td>\n",
              "      <td>1.021000e+03</td>\n",
              "      <td>1.430000e+02</td>\n",
              "    </tr>\n",
              "    <tr>\n",
              "      <th>25%</th>\n",
              "      <td>1.458081e+06</td>\n",
              "      <td>2.016091e+13</td>\n",
              "      <td>2.005394e+06</td>\n",
              "      <td>1.000000</td>\n",
              "      <td>1.000000</td>\n",
              "      <td>NaN</td>\n",
              "      <td>42.318251</td>\n",
              "      <td>-71.104974</td>\n",
              "      <td>2.000000</td>\n",
              "      <td>1.000000</td>\n",
              "      <td>...</td>\n",
              "      <td>9.000000</td>\n",
              "      <td>9.000000</td>\n",
              "      <td>9.000000</td>\n",
              "      <td>NaN</td>\n",
              "      <td>NaN</td>\n",
              "      <td>1.000000</td>\n",
              "      <td>1.710000</td>\n",
              "      <td>1.458081e+06</td>\n",
              "      <td>3.010420e+07</td>\n",
              "      <td>9.001346e+06</td>\n",
              "    </tr>\n",
              "    <tr>\n",
              "      <th>50%</th>\n",
              "      <td>4.080000e+06</td>\n",
              "      <td>2.016091e+13</td>\n",
              "      <td>8.157833e+06</td>\n",
              "      <td>2.000000</td>\n",
              "      <td>2.000000</td>\n",
              "      <td>NaN</td>\n",
              "      <td>42.343722</td>\n",
              "      <td>-71.073886</td>\n",
              "      <td>2.000000</td>\n",
              "      <td>1.000000</td>\n",
              "      <td>...</td>\n",
              "      <td>10.000000</td>\n",
              "      <td>9.000000</td>\n",
              "      <td>9.000000</td>\n",
              "      <td>NaN</td>\n",
              "      <td>NaN</td>\n",
              "      <td>2.000000</td>\n",
              "      <td>3.220000</td>\n",
              "      <td>4.080000e+06</td>\n",
              "      <td>5.223121e+07</td>\n",
              "      <td>2.305179e+07</td>\n",
              "    </tr>\n",
              "    <tr>\n",
              "      <th>75%</th>\n",
              "      <td>7.377034e+06</td>\n",
              "      <td>2.016091e+13</td>\n",
              "      <td>2.185136e+07</td>\n",
              "      <td>6.000000</td>\n",
              "      <td>6.000000</td>\n",
              "      <td>NaN</td>\n",
              "      <td>42.357792</td>\n",
              "      <td>-71.057207</td>\n",
              "      <td>4.000000</td>\n",
              "      <td>1.000000</td>\n",
              "      <td>...</td>\n",
              "      <td>10.000000</td>\n",
              "      <td>10.000000</td>\n",
              "      <td>10.000000</td>\n",
              "      <td>NaN</td>\n",
              "      <td>NaN</td>\n",
              "      <td>5.000000</td>\n",
              "      <td>5.330000</td>\n",
              "      <td>7.377034e+06</td>\n",
              "      <td>7.663248e+07</td>\n",
              "      <td>4.213454e+07</td>\n",
              "    </tr>\n",
              "    <tr>\n",
              "      <th>max</th>\n",
              "      <td>1.484378e+07</td>\n",
              "      <td>2.016091e+13</td>\n",
              "      <td>9.287818e+07</td>\n",
              "      <td>749.000000</td>\n",
              "      <td>749.000000</td>\n",
              "      <td>NaN</td>\n",
              "      <td>42.389982</td>\n",
              "      <td>-71.000100</td>\n",
              "      <td>16.000000</td>\n",
              "      <td>6.000000</td>\n",
              "      <td>...</td>\n",
              "      <td>10.000000</td>\n",
              "      <td>10.000000</td>\n",
              "      <td>10.000000</td>\n",
              "      <td>NaN</td>\n",
              "      <td>NaN</td>\n",
              "      <td>136.000000</td>\n",
              "      <td>19.150000</td>\n",
              "      <td>1.484378e+07</td>\n",
              "      <td>9.999045e+07</td>\n",
              "      <td>9.335034e+07</td>\n",
              "    </tr>\n",
              "  </tbody>\n",
              "</table>\n",
              "<p>8 rows × 37 columns</p>\n",
              "</div>"
            ],
            "text/plain": [
              "               id_x     scrape_id       host_id  host_listings_count  \\\n",
              "count  6.827500e+04  6.827500e+04  6.827500e+04         68275.000000   \n",
              "mean   4.759910e+06  2.016091e+13  1.444614e+07            13.972830   \n",
              "std    3.788990e+06  0.000000e+00  1.635912e+07            66.806719   \n",
              "min    3.353000e+03  2.016091e+13  4.240000e+03             1.000000   \n",
              "25%    1.458081e+06  2.016091e+13  2.005394e+06             1.000000   \n",
              "50%    4.080000e+06  2.016091e+13  8.157833e+06             2.000000   \n",
              "75%    7.377034e+06  2.016091e+13  2.185136e+07             6.000000   \n",
              "max    1.484378e+07  2.016091e+13  9.287818e+07           749.000000   \n",
              "\n",
              "       host_total_listings_count  neighbourhood_group_cleansed      latitude  \\\n",
              "count               68275.000000                           0.0  68275.000000   \n",
              "mean                   13.972830                           NaN     42.338246   \n",
              "std                    66.806719                           NaN      0.026307   \n",
              "min                     1.000000                           NaN     42.235942   \n",
              "25%                     1.000000                           NaN     42.318251   \n",
              "50%                     2.000000                           NaN     42.343722   \n",
              "75%                     6.000000                           NaN     42.357792   \n",
              "max                   749.000000                           NaN     42.389982   \n",
              "\n",
              "          longitude  accommodates     bathrooms  ...  \\\n",
              "count  68275.000000  68275.000000  67510.000000  ...   \n",
              "mean     -71.080348      3.035269      1.197571  ...   \n",
              "std        0.032852      1.797994      0.454646  ...   \n",
              "min      -71.171469      1.000000      0.000000  ...   \n",
              "25%      -71.104974      2.000000      1.000000  ...   \n",
              "50%      -71.073886      2.000000      1.000000  ...   \n",
              "75%      -71.057207      4.000000      1.000000  ...   \n",
              "max      -71.000100     16.000000      6.000000  ...   \n",
              "\n",
              "       review_scores_communication  review_scores_location  \\\n",
              "count                 68202.000000            68197.000000   \n",
              "mean                      9.703953                9.361145   \n",
              "std                       0.514301                0.721928   \n",
              "min                       4.000000                2.000000   \n",
              "25%                       9.000000                9.000000   \n",
              "50%                      10.000000                9.000000   \n",
              "75%                      10.000000               10.000000   \n",
              "max                      10.000000               10.000000   \n",
              "\n",
              "       review_scores_value  license  jurisdiction_names  \\\n",
              "count         68199.000000      0.0                 0.0   \n",
              "mean              9.234564      NaN                 NaN   \n",
              "std               0.649583      NaN                 NaN   \n",
              "min               2.000000      NaN                 NaN   \n",
              "25%               9.000000      NaN                 NaN   \n",
              "50%               9.000000      NaN                 NaN   \n",
              "75%              10.000000      NaN                 NaN   \n",
              "max              10.000000      NaN                 NaN   \n",
              "\n",
              "       calculated_host_listings_count  reviews_per_month    listing_id  \\\n",
              "count                    68275.000000       68275.000000  6.827500e+04   \n",
              "mean                         5.141721           3.669015  4.759910e+06   \n",
              "std                         10.991914           2.492277  3.788990e+06   \n",
              "min                          1.000000           0.010000  3.353000e+03   \n",
              "25%                          1.000000           1.710000  1.458081e+06   \n",
              "50%                          2.000000           3.220000  4.080000e+06   \n",
              "75%                          5.000000           5.330000  7.377034e+06   \n",
              "max                        136.000000          19.150000  1.484378e+07   \n",
              "\n",
              "          review_id   reviewer_id  \n",
              "count  6.827500e+04  6.827500e+04  \n",
              "mean   5.246516e+07  2.802389e+07  \n",
              "std    2.790991e+07  2.234097e+07  \n",
              "min    1.021000e+03  1.430000e+02  \n",
              "25%    3.010420e+07  9.001346e+06  \n",
              "50%    5.223121e+07  2.305179e+07  \n",
              "75%    7.663248e+07  4.213454e+07  \n",
              "max    9.999045e+07  9.335034e+07  \n",
              "\n",
              "[8 rows x 37 columns]"
            ]
          },
          "execution_count": 14,
          "metadata": {},
          "output_type": "execute_result"
        }
      ],
      "source": [
        "boston_df.describe()"
      ]
    },
    {
      "cell_type": "code",
      "execution_count": null,
      "id": "VDgvJpyk8tKN",
      "metadata": {
        "colab": {
          "base_uri": "https://localhost:8080/",
          "height": 994
        },
        "id": "VDgvJpyk8tKN",
        "outputId": "cb50ac8f-558e-4723-d036-0dc07221edd8"
      },
      "outputs": [
        {
          "data": {
            "text/html": [
              "<div>\n",
              "<style scoped>\n",
              "    .dataframe tbody tr th:only-of-type {\n",
              "        vertical-align: middle;\n",
              "    }\n",
              "\n",
              "    .dataframe tbody tr th {\n",
              "        vertical-align: top;\n",
              "    }\n",
              "\n",
              "    .dataframe thead th {\n",
              "        text-align: right;\n",
              "    }\n",
              "</style>\n",
              "<table border=\"1\" class=\"dataframe\">\n",
              "  <thead>\n",
              "    <tr style=\"text-align: right;\">\n",
              "      <th></th>\n",
              "      <th>id_x</th>\n",
              "      <th>listing_url</th>\n",
              "      <th>scrape_id</th>\n",
              "      <th>last_scraped</th>\n",
              "      <th>name</th>\n",
              "      <th>summary</th>\n",
              "      <th>space</th>\n",
              "      <th>description</th>\n",
              "      <th>experiences_offered</th>\n",
              "      <th>neighborhood_overview</th>\n",
              "      <th>...</th>\n",
              "      <th>require_guest_profile_picture</th>\n",
              "      <th>require_guest_phone_verification</th>\n",
              "      <th>calculated_host_listings_count</th>\n",
              "      <th>reviews_per_month</th>\n",
              "      <th>listing_id</th>\n",
              "      <th>review_id</th>\n",
              "      <th>date</th>\n",
              "      <th>reviewer_id</th>\n",
              "      <th>reviewer_name</th>\n",
              "      <th>comments</th>\n",
              "    </tr>\n",
              "  </thead>\n",
              "  <tbody>\n",
              "    <tr>\n",
              "      <th>0</th>\n",
              "      <td>3075044</td>\n",
              "      <td>https://www.airbnb.com/rooms/3075044</td>\n",
              "      <td>20160906204935</td>\n",
              "      <td>2016-09-07</td>\n",
              "      <td>Charming room in pet friendly apt</td>\n",
              "      <td>Charming and quiet room in a second floor 1910...</td>\n",
              "      <td>Small but cozy and quite room with a full size...</td>\n",
              "      <td>Charming and quiet room in a second floor 1910...</td>\n",
              "      <td>none</td>\n",
              "      <td>The room is in Roslindale, a diverse and prima...</td>\n",
              "      <td>...</td>\n",
              "      <td>f</td>\n",
              "      <td>f</td>\n",
              "      <td>1</td>\n",
              "      <td>1.3</td>\n",
              "      <td>3075044</td>\n",
              "      <td>13631717</td>\n",
              "      <td>2014-06-01</td>\n",
              "      <td>9645972</td>\n",
              "      <td>Dmitrii</td>\n",
              "      <td>Andrea is a great host. Neighborhood is wonder...</td>\n",
              "    </tr>\n",
              "    <tr>\n",
              "      <th>1</th>\n",
              "      <td>3075044</td>\n",
              "      <td>https://www.airbnb.com/rooms/3075044</td>\n",
              "      <td>20160906204935</td>\n",
              "      <td>2016-09-07</td>\n",
              "      <td>Charming room in pet friendly apt</td>\n",
              "      <td>Charming and quiet room in a second floor 1910...</td>\n",
              "      <td>Small but cozy and quite room with a full size...</td>\n",
              "      <td>Charming and quiet room in a second floor 1910...</td>\n",
              "      <td>none</td>\n",
              "      <td>The room is in Roslindale, a diverse and prima...</td>\n",
              "      <td>...</td>\n",
              "      <td>f</td>\n",
              "      <td>f</td>\n",
              "      <td>1</td>\n",
              "      <td>1.3</td>\n",
              "      <td>3075044</td>\n",
              "      <td>13866662</td>\n",
              "      <td>2014-06-06</td>\n",
              "      <td>12020681</td>\n",
              "      <td>Paola</td>\n",
              "      <td>We had a great time at Andrea's place. He is v...</td>\n",
              "    </tr>\n",
              "    <tr>\n",
              "      <th>2</th>\n",
              "      <td>3075044</td>\n",
              "      <td>https://www.airbnb.com/rooms/3075044</td>\n",
              "      <td>20160906204935</td>\n",
              "      <td>2016-09-07</td>\n",
              "      <td>Charming room in pet friendly apt</td>\n",
              "      <td>Charming and quiet room in a second floor 1910...</td>\n",
              "      <td>Small but cozy and quite room with a full size...</td>\n",
              "      <td>Charming and quiet room in a second floor 1910...</td>\n",
              "      <td>none</td>\n",
              "      <td>The room is in Roslindale, a diverse and prima...</td>\n",
              "      <td>...</td>\n",
              "      <td>f</td>\n",
              "      <td>f</td>\n",
              "      <td>1</td>\n",
              "      <td>1.3</td>\n",
              "      <td>3075044</td>\n",
              "      <td>14990373</td>\n",
              "      <td>2014-06-30</td>\n",
              "      <td>8165047</td>\n",
              "      <td>Jaydee</td>\n",
              "      <td>Adrea was very welcoming and flexible to our n...</td>\n",
              "    </tr>\n",
              "    <tr>\n",
              "      <th>3</th>\n",
              "      <td>3075044</td>\n",
              "      <td>https://www.airbnb.com/rooms/3075044</td>\n",
              "      <td>20160906204935</td>\n",
              "      <td>2016-09-07</td>\n",
              "      <td>Charming room in pet friendly apt</td>\n",
              "      <td>Charming and quiet room in a second floor 1910...</td>\n",
              "      <td>Small but cozy and quite room with a full size...</td>\n",
              "      <td>Charming and quiet room in a second floor 1910...</td>\n",
              "      <td>none</td>\n",
              "      <td>The room is in Roslindale, a diverse and prima...</td>\n",
              "      <td>...</td>\n",
              "      <td>f</td>\n",
              "      <td>f</td>\n",
              "      <td>1</td>\n",
              "      <td>1.3</td>\n",
              "      <td>3075044</td>\n",
              "      <td>19807601</td>\n",
              "      <td>2014-09-18</td>\n",
              "      <td>21319433</td>\n",
              "      <td>Anthony</td>\n",
              "      <td>Andrea made us feel welcome because he made th...</td>\n",
              "    </tr>\n",
              "    <tr>\n",
              "      <th>4</th>\n",
              "      <td>3075044</td>\n",
              "      <td>https://www.airbnb.com/rooms/3075044</td>\n",
              "      <td>20160906204935</td>\n",
              "      <td>2016-09-07</td>\n",
              "      <td>Charming room in pet friendly apt</td>\n",
              "      <td>Charming and quiet room in a second floor 1910...</td>\n",
              "      <td>Small but cozy and quite room with a full size...</td>\n",
              "      <td>Charming and quiet room in a second floor 1910...</td>\n",
              "      <td>none</td>\n",
              "      <td>The room is in Roslindale, a diverse and prima...</td>\n",
              "      <td>...</td>\n",
              "      <td>f</td>\n",
              "      <td>f</td>\n",
              "      <td>1</td>\n",
              "      <td>1.3</td>\n",
              "      <td>3075044</td>\n",
              "      <td>20322887</td>\n",
              "      <td>2014-09-27</td>\n",
              "      <td>21706950</td>\n",
              "      <td>Xinny</td>\n",
              "      <td>Me and my friend were so happy about Andrea's ...</td>\n",
              "    </tr>\n",
              "  </tbody>\n",
              "</table>\n",
              "<p>5 rows × 101 columns</p>\n",
              "</div>"
            ],
            "text/plain": [
              "      id_x                           listing_url       scrape_id last_scraped  \\\n",
              "0  3075044  https://www.airbnb.com/rooms/3075044  20160906204935   2016-09-07   \n",
              "1  3075044  https://www.airbnb.com/rooms/3075044  20160906204935   2016-09-07   \n",
              "2  3075044  https://www.airbnb.com/rooms/3075044  20160906204935   2016-09-07   \n",
              "3  3075044  https://www.airbnb.com/rooms/3075044  20160906204935   2016-09-07   \n",
              "4  3075044  https://www.airbnb.com/rooms/3075044  20160906204935   2016-09-07   \n",
              "\n",
              "                                name  \\\n",
              "0  Charming room in pet friendly apt   \n",
              "1  Charming room in pet friendly apt   \n",
              "2  Charming room in pet friendly apt   \n",
              "3  Charming room in pet friendly apt   \n",
              "4  Charming room in pet friendly apt   \n",
              "\n",
              "                                             summary  \\\n",
              "0  Charming and quiet room in a second floor 1910...   \n",
              "1  Charming and quiet room in a second floor 1910...   \n",
              "2  Charming and quiet room in a second floor 1910...   \n",
              "3  Charming and quiet room in a second floor 1910...   \n",
              "4  Charming and quiet room in a second floor 1910...   \n",
              "\n",
              "                                               space  \\\n",
              "0  Small but cozy and quite room with a full size...   \n",
              "1  Small but cozy and quite room with a full size...   \n",
              "2  Small but cozy and quite room with a full size...   \n",
              "3  Small but cozy and quite room with a full size...   \n",
              "4  Small but cozy and quite room with a full size...   \n",
              "\n",
              "                                         description experiences_offered  \\\n",
              "0  Charming and quiet room in a second floor 1910...                none   \n",
              "1  Charming and quiet room in a second floor 1910...                none   \n",
              "2  Charming and quiet room in a second floor 1910...                none   \n",
              "3  Charming and quiet room in a second floor 1910...                none   \n",
              "4  Charming and quiet room in a second floor 1910...                none   \n",
              "\n",
              "                               neighborhood_overview  ...  \\\n",
              "0  The room is in Roslindale, a diverse and prima...  ...   \n",
              "1  The room is in Roslindale, a diverse and prima...  ...   \n",
              "2  The room is in Roslindale, a diverse and prima...  ...   \n",
              "3  The room is in Roslindale, a diverse and prima...  ...   \n",
              "4  The room is in Roslindale, a diverse and prima...  ...   \n",
              "\n",
              "  require_guest_profile_picture require_guest_phone_verification  \\\n",
              "0                             f                                f   \n",
              "1                             f                                f   \n",
              "2                             f                                f   \n",
              "3                             f                                f   \n",
              "4                             f                                f   \n",
              "\n",
              "  calculated_host_listings_count reviews_per_month listing_id review_id  \\\n",
              "0                              1               1.3    3075044  13631717   \n",
              "1                              1               1.3    3075044  13866662   \n",
              "2                              1               1.3    3075044  14990373   \n",
              "3                              1               1.3    3075044  19807601   \n",
              "4                              1               1.3    3075044  20322887   \n",
              "\n",
              "        date reviewer_id reviewer_name  \\\n",
              "0 2014-06-01     9645972       Dmitrii   \n",
              "1 2014-06-06    12020681         Paola   \n",
              "2 2014-06-30     8165047        Jaydee   \n",
              "3 2014-09-18    21319433       Anthony   \n",
              "4 2014-09-27    21706950         Xinny   \n",
              "\n",
              "                                            comments  \n",
              "0  Andrea is a great host. Neighborhood is wonder...  \n",
              "1  We had a great time at Andrea's place. He is v...  \n",
              "2  Adrea was very welcoming and flexible to our n...  \n",
              "3  Andrea made us feel welcome because he made th...  \n",
              "4  Me and my friend were so happy about Andrea's ...  \n",
              "\n",
              "[5 rows x 101 columns]"
            ]
          },
          "execution_count": 15,
          "metadata": {},
          "output_type": "execute_result"
        }
      ],
      "source": [
        "boston_df.head(5)"
      ]
    },
    {
      "cell_type": "code",
      "execution_count": null,
      "id": "52d4c010-b52c-458f-93d9-612440f0ab5a",
      "metadata": {
        "id": "52d4c010-b52c-458f-93d9-612440f0ab5a"
      },
      "outputs": [],
      "source": [
        "# Get of all Column names in boston_review and boston_listing\n",
        "boston_review_list = list(boston_review)\n",
        "boston_listing_listing = list(boston_listing)"
      ]
    },
    {
      "cell_type": "code",
      "execution_count": null,
      "id": "6a3212b2-a97c-4968-8d2b-d68c7365add8",
      "metadata": {
        "colab": {
          "base_uri": "https://localhost:8080/"
        },
        "id": "6a3212b2-a97c-4968-8d2b-d68c7365add8",
        "outputId": "dadba8ed-c505-461f-95c0-17253e7be395"
      },
      "outputs": [
        {
          "data": {
            "text/plain": [
              "['listing_id', 'id', 'date', 'reviewer_id', 'reviewer_name', 'comments']"
            ]
          },
          "execution_count": 17,
          "metadata": {},
          "output_type": "execute_result"
        }
      ],
      "source": [
        "boston_review_list"
      ]
    },
    {
      "cell_type": "code",
      "execution_count": null,
      "id": "9be2f066-a1d4-4b8c-8cda-9e5796a98a87",
      "metadata": {
        "colab": {
          "base_uri": "https://localhost:8080/"
        },
        "id": "9be2f066-a1d4-4b8c-8cda-9e5796a98a87",
        "outputId": "b0cd8d24-3472-44dd-a129-44cfacbbca76"
      },
      "outputs": [
        {
          "data": {
            "text/plain": [
              "['id',\n",
              " 'listing_url',\n",
              " 'scrape_id',\n",
              " 'last_scraped',\n",
              " 'name',\n",
              " 'summary',\n",
              " 'space',\n",
              " 'description',\n",
              " 'experiences_offered',\n",
              " 'neighborhood_overview',\n",
              " 'notes',\n",
              " 'transit',\n",
              " 'access',\n",
              " 'interaction',\n",
              " 'house_rules',\n",
              " 'thumbnail_url',\n",
              " 'medium_url',\n",
              " 'picture_url',\n",
              " 'xl_picture_url',\n",
              " 'host_id',\n",
              " 'host_url',\n",
              " 'host_name',\n",
              " 'host_since',\n",
              " 'host_location',\n",
              " 'host_about',\n",
              " 'host_response_time',\n",
              " 'host_response_rate',\n",
              " 'host_acceptance_rate',\n",
              " 'host_is_superhost',\n",
              " 'host_thumbnail_url',\n",
              " 'host_picture_url',\n",
              " 'host_neighbourhood',\n",
              " 'host_listings_count',\n",
              " 'host_total_listings_count',\n",
              " 'host_verifications',\n",
              " 'host_has_profile_pic',\n",
              " 'host_identity_verified',\n",
              " 'street',\n",
              " 'neighbourhood',\n",
              " 'neighbourhood_cleansed',\n",
              " 'neighbourhood_group_cleansed',\n",
              " 'city',\n",
              " 'state',\n",
              " 'zipcode',\n",
              " 'market',\n",
              " 'smart_location',\n",
              " 'country_code',\n",
              " 'country',\n",
              " 'latitude',\n",
              " 'longitude',\n",
              " 'is_location_exact',\n",
              " 'property_type',\n",
              " 'room_type',\n",
              " 'accommodates',\n",
              " 'bathrooms',\n",
              " 'bedrooms',\n",
              " 'beds',\n",
              " 'bed_type',\n",
              " 'amenities',\n",
              " 'square_feet',\n",
              " 'price',\n",
              " 'weekly_price',\n",
              " 'monthly_price',\n",
              " 'security_deposit',\n",
              " 'cleaning_fee',\n",
              " 'guests_included',\n",
              " 'extra_people',\n",
              " 'minimum_nights',\n",
              " 'maximum_nights',\n",
              " 'calendar_updated',\n",
              " 'has_availability',\n",
              " 'availability_30',\n",
              " 'availability_60',\n",
              " 'availability_90',\n",
              " 'availability_365',\n",
              " 'calendar_last_scraped',\n",
              " 'number_of_reviews',\n",
              " 'first_review',\n",
              " 'last_review',\n",
              " 'review_scores_rating',\n",
              " 'review_scores_accuracy',\n",
              " 'review_scores_cleanliness',\n",
              " 'review_scores_checkin',\n",
              " 'review_scores_communication',\n",
              " 'review_scores_location',\n",
              " 'review_scores_value',\n",
              " 'requires_license',\n",
              " 'license',\n",
              " 'jurisdiction_names',\n",
              " 'instant_bookable',\n",
              " 'cancellation_policy',\n",
              " 'require_guest_profile_picture',\n",
              " 'require_guest_phone_verification',\n",
              " 'calculated_host_listings_count',\n",
              " 'reviews_per_month']"
            ]
          },
          "execution_count": 18,
          "metadata": {},
          "output_type": "execute_result"
        }
      ],
      "source": [
        "boston_listing_listing"
      ]
    },
    {
      "cell_type": "markdown",
      "id": "BwRLhWXNK_fN",
      "metadata": {
        "id": "BwRLhWXNK_fN"
      },
      "source": [
        "#1. What area is most popular during the graduation season, particularly in Boston?"
      ]
    },
    {
      "cell_type": "markdown",
      "id": "xITcxuW3Lh2q",
      "metadata": {
        "id": "xITcxuW3Lh2q"
      },
      "source": [
        "Some observations:\n",
        "\n",
        "* Popular listings: count by `listing_id` in the review dataset\n",
        "* Popular areas (neighborhood): count by `neighborhood` in the listing dataset"
      ]
    },
    {
      "cell_type": "code",
      "execution_count": null,
      "id": "tk83iP_iGOOa",
      "metadata": {
        "colab": {
          "base_uri": "https://localhost:8080/"
        },
        "id": "tk83iP_iGOOa",
        "outputId": "98a9a54c-cac0-4124-9a31-9c1a6ee70a3d"
      },
      "outputs": [
        {
          "data": {
            "text/plain": [
              "66288       404\n",
              "1497879     320\n",
              "414419      312\n",
              "31796       291\n",
              "916123      281\n",
              "           ... \n",
              "9541666       1\n",
              "13866156      1\n",
              "10411383      1\n",
              "14663743      1\n",
              "5498472       1\n",
              "Name: listing_id, Length: 2829, dtype: int64"
            ]
          },
          "execution_count": 19,
          "metadata": {},
          "output_type": "execute_result"
        }
      ],
      "source": [
        "boston_review.listing_id.value_counts()"
      ]
    },
    {
      "cell_type": "code",
      "execution_count": null,
      "id": "IHjY3H3qGuF4",
      "metadata": {
        "colab": {
          "base_uri": "https://localhost:8080/"
        },
        "id": "IHjY3H3qGuF4",
        "outputId": "18eb31b1-9df3-4a3f-a996-cf6ec555075f"
      },
      "outputs": [
        {
          "data": {
            "text/plain": [
              "Allston-Brighton      364\n",
              "Jamaica Plain         314\n",
              "South End             298\n",
              "Back Bay              291\n",
              "Fenway/Kenmore        249\n",
              "South Boston          216\n",
              "Dorchester            195\n",
              "Beacon Hill           174\n",
              "North End             125\n",
              "East Boston           117\n",
              "Roxbury               116\n",
              "Mission Hill          103\n",
              "Charlestown            79\n",
              "Chinatown              78\n",
              "West End               68\n",
              "Roslindale             50\n",
              "West Roxbury           35\n",
              "Theater District       33\n",
              "Downtown Crossing      26\n",
              "Hyde Park              25\n",
              "Mattapan               20\n",
              "Financial District     13\n",
              "Somerville             13\n",
              "Downtown                8\n",
              "Leather District        8\n",
              "Brookline               8\n",
              "Cambridge               7\n",
              "Chestnut Hill           4\n",
              "Government Center       3\n",
              "Harvard Square          2\n",
              "Name: neighbourhood, dtype: int64"
            ]
          },
          "execution_count": 21,
          "metadata": {},
          "output_type": "execute_result"
        }
      ],
      "source": [
        "boston_listing.neighbourhood.value_counts()"
      ]
    },
    {
      "cell_type": "markdown",
      "id": "btpSmJzOMTlO",
      "metadata": {
        "id": "btpSmJzOMTlO"
      },
      "source": [
        "## Review Count by Neighbourhood"
      ]
    },
    {
      "cell_type": "code",
      "execution_count": null,
      "id": "u-lHYX4KOOyu",
      "metadata": {
        "colab": {
          "base_uri": "https://localhost:8080/",
          "height": 206
        },
        "id": "u-lHYX4KOOyu",
        "outputId": "9b6378df-568b-4811-bda7-999221377f51"
      },
      "outputs": [
        {
          "data": {
            "text/html": [
              "<div>\n",
              "<style scoped>\n",
              "    .dataframe tbody tr th:only-of-type {\n",
              "        vertical-align: middle;\n",
              "    }\n",
              "\n",
              "    .dataframe tbody tr th {\n",
              "        vertical-align: top;\n",
              "    }\n",
              "\n",
              "    .dataframe thead th {\n",
              "        text-align: right;\n",
              "    }\n",
              "</style>\n",
              "<table border=\"1\" class=\"dataframe\">\n",
              "  <thead>\n",
              "    <tr style=\"text-align: right;\">\n",
              "      <th></th>\n",
              "      <th>listing_id</th>\n",
              "      <th>review_id</th>\n",
              "      <th>neighbourhood</th>\n",
              "      <th>date</th>\n",
              "    </tr>\n",
              "  </thead>\n",
              "  <tbody>\n",
              "    <tr>\n",
              "      <th>0</th>\n",
              "      <td>3075044</td>\n",
              "      <td>13631717</td>\n",
              "      <td>Roslindale</td>\n",
              "      <td>2014-06-01</td>\n",
              "    </tr>\n",
              "    <tr>\n",
              "      <th>1</th>\n",
              "      <td>3075044</td>\n",
              "      <td>13866662</td>\n",
              "      <td>Roslindale</td>\n",
              "      <td>2014-06-06</td>\n",
              "    </tr>\n",
              "    <tr>\n",
              "      <th>2</th>\n",
              "      <td>3075044</td>\n",
              "      <td>14990373</td>\n",
              "      <td>Roslindale</td>\n",
              "      <td>2014-06-30</td>\n",
              "    </tr>\n",
              "    <tr>\n",
              "      <th>3</th>\n",
              "      <td>3075044</td>\n",
              "      <td>19807601</td>\n",
              "      <td>Roslindale</td>\n",
              "      <td>2014-09-18</td>\n",
              "    </tr>\n",
              "    <tr>\n",
              "      <th>4</th>\n",
              "      <td>3075044</td>\n",
              "      <td>20322887</td>\n",
              "      <td>Roslindale</td>\n",
              "      <td>2014-09-27</td>\n",
              "    </tr>\n",
              "  </tbody>\n",
              "</table>\n",
              "</div>"
            ],
            "text/plain": [
              "   listing_id  review_id neighbourhood       date\n",
              "0     3075044   13631717    Roslindale 2014-06-01\n",
              "1     3075044   13866662    Roslindale 2014-06-06\n",
              "2     3075044   14990373    Roslindale 2014-06-30\n",
              "3     3075044   19807601    Roslindale 2014-09-18\n",
              "4     3075044   20322887    Roslindale 2014-09-27"
            ]
          },
          "execution_count": 22,
          "metadata": {},
          "output_type": "execute_result"
        }
      ],
      "source": [
        "question1 = boston_df[['listing_id', 'review_id', 'neighbourhood', 'date']]\n",
        "question1.head(5)"
      ]
    },
    {
      "cell_type": "code",
      "execution_count": null,
      "id": "r4jPFAtzOZU8",
      "metadata": {
        "colab": {
          "base_uri": "https://localhost:8080/"
        },
        "id": "r4jPFAtzOZU8",
        "outputId": "0bd134b9-3a83-4adf-9018-b55878ae288a"
      },
      "outputs": [
        {
          "data": {
            "text/plain": [
              "neighbourhood\n",
              "Allston-Brighton      5156\n",
              "Back Bay              4378\n",
              "Beacon Hill           3494\n",
              "Brookline                6\n",
              "Cambridge               39\n",
              "Charlestown           1898\n",
              "Chestnut Hill            2\n",
              "Chinatown              651\n",
              "Dorchester            6462\n",
              "Downtown                91\n",
              "Downtown Crossing      954\n",
              "East Boston           4636\n",
              "Fenway/Kenmore        2786\n",
              "Financial District      56\n",
              "Government Center       52\n",
              "Hyde Park              267\n",
              "Jamaica Plain         8644\n",
              "Leather District       106\n",
              "Mattapan               148\n",
              "Mission Hill          1333\n",
              "North End             4099\n",
              "Roslindale            1304\n",
              "Roxbury               3236\n",
              "Somerville              25\n",
              "South Boston          4253\n",
              "South End             5150\n",
              "Theater District       605\n",
              "West End               268\n",
              "West Roxbury           672\n",
              "Name: review_id, dtype: int64"
            ]
          },
          "execution_count": 23,
          "metadata": {},
          "output_type": "execute_result"
        }
      ],
      "source": [
        "review_count_by_neighbourhood = question1.groupby(['neighbourhood'])['review_id'].count()\n",
        "review_count_by_neighbourhood"
      ]
    },
    {
      "cell_type": "markdown",
      "id": "K-EaiHZVPigN",
      "metadata": {
        "id": "K-EaiHZVPigN"
      },
      "source": [
        "### Most popular area of all time:"
      ]
    },
    {
      "cell_type": "code",
      "execution_count": null,
      "id": "boU643BfPVla",
      "metadata": {
        "colab": {
          "base_uri": "https://localhost:8080/",
          "height": 36
        },
        "id": "boU643BfPVla",
        "outputId": "7be79635-10b0-444f-bcd1-b706d1e8524b"
      },
      "outputs": [
        {
          "data": {
            "text/plain": [
              "'Jamaica Plain'"
            ]
          },
          "execution_count": 24,
          "metadata": {},
          "output_type": "execute_result"
        }
      ],
      "source": [
        "#idxmax() function to function to find the index of the maximum value along the index axis.\n",
        "popular_area = review_count_by_neighbourhood.idxmax()\n",
        "popular_area"
      ]
    },
    {
      "cell_type": "code",
      "execution_count": null,
      "id": "7KwByntAQDIN",
      "metadata": {
        "colab": {
          "base_uri": "https://localhost:8080/"
        },
        "id": "7KwByntAQDIN",
        "outputId": "f74aaa4e-b28c-4297-e4f8-eb7a0811f2c7"
      },
      "outputs": [
        {
          "data": {
            "text/plain": [
              "8644"
            ]
          },
          "execution_count": 25,
          "metadata": {},
          "output_type": "execute_result"
        }
      ],
      "source": [
        "review_count_by_neighbourhood[popular_area]"
      ]
    },
    {
      "cell_type": "markdown",
      "id": "lRauPORyQNJ3",
      "metadata": {
        "id": "lRauPORyQNJ3"
      },
      "source": [
        "### Most popular area of Graduate season"
      ]
    },
    {
      "cell_type": "code",
      "execution_count": null,
      "id": "5bc3278a-4496-487b-ad58-803b170e6eb6",
      "metadata": {
        "colab": {
          "base_uri": "https://localhost:8080/"
        },
        "id": "5bc3278a-4496-487b-ad58-803b170e6eb6",
        "outputId": "bcba39b3-28db-4f0d-8b43-ba74730ecb78"
      },
      "outputs": [
        {
          "data": {
            "text/plain": [
              "0         6\n",
              "1         6\n",
              "2         6\n",
              "3         9\n",
              "4         9\n",
              "         ..\n",
              "68270    12\n",
              "68271    12\n",
              "68272     8\n",
              "68273     8\n",
              "68274     9\n",
              "Name: date, Length: 68275, dtype: int64"
            ]
          },
          "execution_count": 26,
          "metadata": {},
          "output_type": "execute_result"
        }
      ],
      "source": [
        "pd.to_datetime(question1['date']).dt.month"
      ]
    },
    {
      "cell_type": "code",
      "execution_count": null,
      "id": "2204c4b3-7604-4c2a-b0fa-5e1355d63152",
      "metadata": {
        "colab": {
          "base_uri": "https://localhost:8080/"
        },
        "id": "2204c4b3-7604-4c2a-b0fa-5e1355d63152",
        "outputId": "d3610e9e-fcec-4fdc-fe74-c4f3acbfdc57"
      },
      "outputs": [
        {
          "name": "stderr",
          "output_type": "stream",
          "text": [
            "/var/folders/q3/brvrh9jj2f5345crdx3z4_140000gn/T/ipykernel_2254/3751370996.py:1: SettingWithCopyWarning: \n",
            "A value is trying to be set on a copy of a slice from a DataFrame.\n",
            "Try using .loc[row_indexer,col_indexer] = value instead\n",
            "\n",
            "See the caveats in the documentation: https://pandas.pydata.org/pandas-docs/stable/user_guide/indexing.html#returning-a-view-versus-a-copy\n",
            "  question1['month'] = pd.to_datetime(question1['date']).dt.month\n"
          ]
        }
      ],
      "source": [
        "question1['month'] = pd.to_datetime(question1['date']).dt.month"
      ]
    },
    {
      "cell_type": "code",
      "execution_count": null,
      "id": "b9f9ccc5-4ceb-49ec-b025-83ed25192c51",
      "metadata": {
        "colab": {
          "base_uri": "https://localhost:8080/"
        },
        "id": "b9f9ccc5-4ceb-49ec-b025-83ed25192c51",
        "outputId": "7fb7b1ea-1a24-4c3d-e802-ad00062d7260"
      },
      "outputs": [
        {
          "data": {
            "text/plain": [
              "neighbourhood\n",
              "Allston-Brighton       658\n",
              "Back Bay               529\n",
              "Beacon Hill            373\n",
              "Cambridge                1\n",
              "Charlestown            214\n",
              "Chinatown               71\n",
              "Dorchester             695\n",
              "Downtown                20\n",
              "Downtown Crossing      117\n",
              "East Boston            531\n",
              "Fenway/Kenmore         330\n",
              "Financial District       2\n",
              "Government Center        9\n",
              "Hyde Park               35\n",
              "Jamaica Plain         1040\n",
              "Leather District        13\n",
              "Mattapan                22\n",
              "Mission Hill           137\n",
              "North End              474\n",
              "Roslindale             169\n",
              "Roxbury                399\n",
              "Somerville               3\n",
              "South Boston           499\n",
              "South End              663\n",
              "Theater District       109\n",
              "West End                36\n",
              "West Roxbury            74\n",
              "Name: review_id, dtype: int64"
            ]
          },
          "execution_count": 30,
          "metadata": {},
          "output_type": "execute_result"
        }
      ],
      "source": [
        "review_count_by_neighbourhood_graduate_season = question1[question1['month']==5].groupby(['neighbourhood'])['review_id'].count()\n",
        "review_count_by_neighbourhood_graduate_season"
      ]
    },
    {
      "cell_type": "code",
      "execution_count": null,
      "id": "43de9812-238b-4284-8408-64fe4b4aaf4f",
      "metadata": {
        "id": "43de9812-238b-4284-8408-64fe4b4aaf4f"
      },
      "outputs": [],
      "source": [
        "question1_bonus = boston_df[['date', 'review_id','neighbourhood']].copy()"
      ]
    },
    {
      "cell_type": "code",
      "execution_count": null,
      "id": "285e8d98-8401-46b2-ade5-96bb85bd595d",
      "metadata": {
        "colab": {
          "base_uri": "https://localhost:8080/",
          "height": 424
        },
        "id": "285e8d98-8401-46b2-ade5-96bb85bd595d",
        "outputId": "4d4f771e-e3bd-4ceb-d8e7-eaf6c919fbe6"
      },
      "outputs": [
        {
          "data": {
            "text/html": [
              "<div>\n",
              "<style scoped>\n",
              "    .dataframe tbody tr th:only-of-type {\n",
              "        vertical-align: middle;\n",
              "    }\n",
              "\n",
              "    .dataframe tbody tr th {\n",
              "        vertical-align: top;\n",
              "    }\n",
              "\n",
              "    .dataframe thead th {\n",
              "        text-align: right;\n",
              "    }\n",
              "</style>\n",
              "<table border=\"1\" class=\"dataframe\">\n",
              "  <thead>\n",
              "    <tr style=\"text-align: right;\">\n",
              "      <th></th>\n",
              "      <th>date</th>\n",
              "      <th>review_id</th>\n",
              "      <th>neighbourhood</th>\n",
              "    </tr>\n",
              "  </thead>\n",
              "  <tbody>\n",
              "    <tr>\n",
              "      <th>0</th>\n",
              "      <td>2014-06-01</td>\n",
              "      <td>13631717</td>\n",
              "      <td>Roslindale</td>\n",
              "    </tr>\n",
              "    <tr>\n",
              "      <th>1</th>\n",
              "      <td>2014-06-06</td>\n",
              "      <td>13866662</td>\n",
              "      <td>Roslindale</td>\n",
              "    </tr>\n",
              "    <tr>\n",
              "      <th>2</th>\n",
              "      <td>2014-06-30</td>\n",
              "      <td>14990373</td>\n",
              "      <td>Roslindale</td>\n",
              "    </tr>\n",
              "    <tr>\n",
              "      <th>3</th>\n",
              "      <td>2014-09-18</td>\n",
              "      <td>19807601</td>\n",
              "      <td>Roslindale</td>\n",
              "    </tr>\n",
              "    <tr>\n",
              "      <th>4</th>\n",
              "      <td>2014-09-27</td>\n",
              "      <td>20322887</td>\n",
              "      <td>Roslindale</td>\n",
              "    </tr>\n",
              "    <tr>\n",
              "      <th>...</th>\n",
              "      <td>...</td>\n",
              "      <td>...</td>\n",
              "      <td>...</td>\n",
              "    </tr>\n",
              "    <tr>\n",
              "      <th>68270</th>\n",
              "      <td>2015-12-15</td>\n",
              "      <td>56653411</td>\n",
              "      <td>Somerville</td>\n",
              "    </tr>\n",
              "    <tr>\n",
              "      <th>68271</th>\n",
              "      <td>2015-12-20</td>\n",
              "      <td>56988524</td>\n",
              "      <td>Somerville</td>\n",
              "    </tr>\n",
              "    <tr>\n",
              "      <th>68272</th>\n",
              "      <td>2016-08-27</td>\n",
              "      <td>97439523</td>\n",
              "      <td>Somerville</td>\n",
              "    </tr>\n",
              "    <tr>\n",
              "      <th>68273</th>\n",
              "      <td>2016-08-27</td>\n",
              "      <td>97541584</td>\n",
              "      <td>Somerville</td>\n",
              "    </tr>\n",
              "    <tr>\n",
              "      <th>68274</th>\n",
              "      <td>2016-09-04</td>\n",
              "      <td>99363053</td>\n",
              "      <td>Somerville</td>\n",
              "    </tr>\n",
              "  </tbody>\n",
              "</table>\n",
              "<p>68275 rows × 3 columns</p>\n",
              "</div>"
            ],
            "text/plain": [
              "            date  review_id neighbourhood\n",
              "0     2014-06-01   13631717    Roslindale\n",
              "1     2014-06-06   13866662    Roslindale\n",
              "2     2014-06-30   14990373    Roslindale\n",
              "3     2014-09-18   19807601    Roslindale\n",
              "4     2014-09-27   20322887    Roslindale\n",
              "...          ...        ...           ...\n",
              "68270 2015-12-15   56653411    Somerville\n",
              "68271 2015-12-20   56988524    Somerville\n",
              "68272 2016-08-27   97439523    Somerville\n",
              "68273 2016-08-27   97541584    Somerville\n",
              "68274 2016-09-04   99363053    Somerville\n",
              "\n",
              "[68275 rows x 3 columns]"
            ]
          },
          "execution_count": 33,
          "metadata": {},
          "output_type": "execute_result"
        }
      ],
      "source": [
        "question1_bonus"
      ]
    },
    {
      "cell_type": "code",
      "execution_count": null,
      "id": "06ef3ab0-cd4e-4c6f-913e-4ae679ff487a",
      "metadata": {
        "id": "06ef3ab0-cd4e-4c6f-913e-4ae679ff487a"
      },
      "outputs": [],
      "source": [
        "question1_bonus['month']=question1['date'].dt.strftime('%m')"
      ]
    },
    {
      "cell_type": "code",
      "execution_count": null,
      "id": "5d783651-3173-4925-bcf4-b6388c3e4b4d",
      "metadata": {
        "colab": {
          "base_uri": "https://localhost:8080/",
          "height": 424
        },
        "id": "5d783651-3173-4925-bcf4-b6388c3e4b4d",
        "outputId": "5a2b58fa-e2c3-41d9-b9af-120fa5d0cd20"
      },
      "outputs": [
        {
          "data": {
            "text/html": [
              "<div>\n",
              "<style scoped>\n",
              "    .dataframe tbody tr th:only-of-type {\n",
              "        vertical-align: middle;\n",
              "    }\n",
              "\n",
              "    .dataframe tbody tr th {\n",
              "        vertical-align: top;\n",
              "    }\n",
              "\n",
              "    .dataframe thead th {\n",
              "        text-align: right;\n",
              "    }\n",
              "</style>\n",
              "<table border=\"1\" class=\"dataframe\">\n",
              "  <thead>\n",
              "    <tr style=\"text-align: right;\">\n",
              "      <th></th>\n",
              "      <th>date</th>\n",
              "      <th>review_id</th>\n",
              "      <th>neighbourhood</th>\n",
              "      <th>month</th>\n",
              "    </tr>\n",
              "  </thead>\n",
              "  <tbody>\n",
              "    <tr>\n",
              "      <th>0</th>\n",
              "      <td>2014-06-01</td>\n",
              "      <td>13631717</td>\n",
              "      <td>Roslindale</td>\n",
              "      <td>06</td>\n",
              "    </tr>\n",
              "    <tr>\n",
              "      <th>1</th>\n",
              "      <td>2014-06-06</td>\n",
              "      <td>13866662</td>\n",
              "      <td>Roslindale</td>\n",
              "      <td>06</td>\n",
              "    </tr>\n",
              "    <tr>\n",
              "      <th>2</th>\n",
              "      <td>2014-06-30</td>\n",
              "      <td>14990373</td>\n",
              "      <td>Roslindale</td>\n",
              "      <td>06</td>\n",
              "    </tr>\n",
              "    <tr>\n",
              "      <th>3</th>\n",
              "      <td>2014-09-18</td>\n",
              "      <td>19807601</td>\n",
              "      <td>Roslindale</td>\n",
              "      <td>09</td>\n",
              "    </tr>\n",
              "    <tr>\n",
              "      <th>4</th>\n",
              "      <td>2014-09-27</td>\n",
              "      <td>20322887</td>\n",
              "      <td>Roslindale</td>\n",
              "      <td>09</td>\n",
              "    </tr>\n",
              "    <tr>\n",
              "      <th>...</th>\n",
              "      <td>...</td>\n",
              "      <td>...</td>\n",
              "      <td>...</td>\n",
              "      <td>...</td>\n",
              "    </tr>\n",
              "    <tr>\n",
              "      <th>68270</th>\n",
              "      <td>2015-12-15</td>\n",
              "      <td>56653411</td>\n",
              "      <td>Somerville</td>\n",
              "      <td>12</td>\n",
              "    </tr>\n",
              "    <tr>\n",
              "      <th>68271</th>\n",
              "      <td>2015-12-20</td>\n",
              "      <td>56988524</td>\n",
              "      <td>Somerville</td>\n",
              "      <td>12</td>\n",
              "    </tr>\n",
              "    <tr>\n",
              "      <th>68272</th>\n",
              "      <td>2016-08-27</td>\n",
              "      <td>97439523</td>\n",
              "      <td>Somerville</td>\n",
              "      <td>08</td>\n",
              "    </tr>\n",
              "    <tr>\n",
              "      <th>68273</th>\n",
              "      <td>2016-08-27</td>\n",
              "      <td>97541584</td>\n",
              "      <td>Somerville</td>\n",
              "      <td>08</td>\n",
              "    </tr>\n",
              "    <tr>\n",
              "      <th>68274</th>\n",
              "      <td>2016-09-04</td>\n",
              "      <td>99363053</td>\n",
              "      <td>Somerville</td>\n",
              "      <td>09</td>\n",
              "    </tr>\n",
              "  </tbody>\n",
              "</table>\n",
              "<p>68275 rows × 4 columns</p>\n",
              "</div>"
            ],
            "text/plain": [
              "            date  review_id neighbourhood month\n",
              "0     2014-06-01   13631717    Roslindale    06\n",
              "1     2014-06-06   13866662    Roslindale    06\n",
              "2     2014-06-30   14990373    Roslindale    06\n",
              "3     2014-09-18   19807601    Roslindale    09\n",
              "4     2014-09-27   20322887    Roslindale    09\n",
              "...          ...        ...           ...   ...\n",
              "68270 2015-12-15   56653411    Somerville    12\n",
              "68271 2015-12-20   56988524    Somerville    12\n",
              "68272 2016-08-27   97439523    Somerville    08\n",
              "68273 2016-08-27   97541584    Somerville    08\n",
              "68274 2016-09-04   99363053    Somerville    09\n",
              "\n",
              "[68275 rows x 4 columns]"
            ]
          },
          "execution_count": 35,
          "metadata": {},
          "output_type": "execute_result"
        }
      ],
      "source": [
        "question1_bonus"
      ]
    },
    {
      "cell_type": "code",
      "execution_count": null,
      "id": "31111d91-ec40-4bc8-9f6c-ab93f5a1814c",
      "metadata": {
        "colab": {
          "base_uri": "https://localhost:8080/",
          "height": 424
        },
        "id": "31111d91-ec40-4bc8-9f6c-ab93f5a1814c",
        "outputId": "db17e818-f3ac-4d85-bcb2-950c82605878"
      },
      "outputs": [
        {
          "data": {
            "text/html": [
              "<div>\n",
              "<style scoped>\n",
              "    .dataframe tbody tr th:only-of-type {\n",
              "        vertical-align: middle;\n",
              "    }\n",
              "\n",
              "    .dataframe tbody tr th {\n",
              "        vertical-align: top;\n",
              "    }\n",
              "\n",
              "    .dataframe thead th {\n",
              "        text-align: right;\n",
              "    }\n",
              "</style>\n",
              "<table border=\"1\" class=\"dataframe\">\n",
              "  <thead>\n",
              "    <tr style=\"text-align: right;\">\n",
              "      <th></th>\n",
              "      <th>neighbourhood</th>\n",
              "      <th>month</th>\n",
              "      <th>review_id</th>\n",
              "    </tr>\n",
              "  </thead>\n",
              "  <tbody>\n",
              "    <tr>\n",
              "      <th>0</th>\n",
              "      <td>Allston-Brighton</td>\n",
              "      <td>01</td>\n",
              "      <td>151</td>\n",
              "    </tr>\n",
              "    <tr>\n",
              "      <th>1</th>\n",
              "      <td>Allston-Brighton</td>\n",
              "      <td>02</td>\n",
              "      <td>160</td>\n",
              "    </tr>\n",
              "    <tr>\n",
              "      <th>2</th>\n",
              "      <td>Allston-Brighton</td>\n",
              "      <td>03</td>\n",
              "      <td>324</td>\n",
              "    </tr>\n",
              "    <tr>\n",
              "      <th>3</th>\n",
              "      <td>Allston-Brighton</td>\n",
              "      <td>04</td>\n",
              "      <td>466</td>\n",
              "    </tr>\n",
              "    <tr>\n",
              "      <th>4</th>\n",
              "      <td>Allston-Brighton</td>\n",
              "      <td>05</td>\n",
              "      <td>658</td>\n",
              "    </tr>\n",
              "    <tr>\n",
              "      <th>...</th>\n",
              "      <td>...</td>\n",
              "      <td>...</td>\n",
              "      <td>...</td>\n",
              "    </tr>\n",
              "    <tr>\n",
              "      <th>310</th>\n",
              "      <td>West Roxbury</td>\n",
              "      <td>08</td>\n",
              "      <td>129</td>\n",
              "    </tr>\n",
              "    <tr>\n",
              "      <th>311</th>\n",
              "      <td>West Roxbury</td>\n",
              "      <td>09</td>\n",
              "      <td>61</td>\n",
              "    </tr>\n",
              "    <tr>\n",
              "      <th>312</th>\n",
              "      <td>West Roxbury</td>\n",
              "      <td>10</td>\n",
              "      <td>45</td>\n",
              "    </tr>\n",
              "    <tr>\n",
              "      <th>313</th>\n",
              "      <td>West Roxbury</td>\n",
              "      <td>11</td>\n",
              "      <td>24</td>\n",
              "    </tr>\n",
              "    <tr>\n",
              "      <th>314</th>\n",
              "      <td>West Roxbury</td>\n",
              "      <td>12</td>\n",
              "      <td>16</td>\n",
              "    </tr>\n",
              "  </tbody>\n",
              "</table>\n",
              "<p>315 rows × 3 columns</p>\n",
              "</div>"
            ],
            "text/plain": [
              "        neighbourhood month  review_id\n",
              "0    Allston-Brighton    01        151\n",
              "1    Allston-Brighton    02        160\n",
              "2    Allston-Brighton    03        324\n",
              "3    Allston-Brighton    04        466\n",
              "4    Allston-Brighton    05        658\n",
              "..                ...   ...        ...\n",
              "310      West Roxbury    08        129\n",
              "311      West Roxbury    09         61\n",
              "312      West Roxbury    10         45\n",
              "313      West Roxbury    11         24\n",
              "314      West Roxbury    12         16\n",
              "\n",
              "[315 rows x 3 columns]"
            ]
          },
          "execution_count": 36,
          "metadata": {},
          "output_type": "execute_result"
        }
      ],
      "source": [
        "question1_bonus_bymonth= question1_bonus.groupby(['neighbourhood','month']).review_id.count().reset_index()\n",
        "question1_bonus_bymonth"
      ]
    },
    {
      "cell_type": "markdown",
      "id": "vY5N8oIYQyrd",
      "metadata": {
        "id": "vY5N8oIYQyrd"
      },
      "source": [
        "#2. What time of year is most popular?"
      ]
    },
    {
      "cell_type": "code",
      "execution_count": null,
      "id": "0ERj_YylJedT",
      "metadata": {
        "id": "0ERj_YylJedT"
      },
      "outputs": [],
      "source": [
        "question1 = boston_df[['date', 'review_id']].copy()"
      ]
    },
    {
      "cell_type": "code",
      "execution_count": null,
      "id": "YHrp5lMIQ-Gn",
      "metadata": {
        "colab": {
          "base_uri": "https://localhost:8080/",
          "height": 424
        },
        "id": "YHrp5lMIQ-Gn",
        "outputId": "67e19dee-6f29-45a6-e074-1f991eb38e19"
      },
      "outputs": [
        {
          "data": {
            "text/html": [
              "<div>\n",
              "<style scoped>\n",
              "    .dataframe tbody tr th:only-of-type {\n",
              "        vertical-align: middle;\n",
              "    }\n",
              "\n",
              "    .dataframe tbody tr th {\n",
              "        vertical-align: top;\n",
              "    }\n",
              "\n",
              "    .dataframe thead th {\n",
              "        text-align: right;\n",
              "    }\n",
              "</style>\n",
              "<table border=\"1\" class=\"dataframe\">\n",
              "  <thead>\n",
              "    <tr style=\"text-align: right;\">\n",
              "      <th></th>\n",
              "      <th>date</th>\n",
              "      <th>review_id</th>\n",
              "      <th>month</th>\n",
              "    </tr>\n",
              "  </thead>\n",
              "  <tbody>\n",
              "    <tr>\n",
              "      <th>0</th>\n",
              "      <td>2014-06-01</td>\n",
              "      <td>13631717</td>\n",
              "      <td>06</td>\n",
              "    </tr>\n",
              "    <tr>\n",
              "      <th>1</th>\n",
              "      <td>2014-06-06</td>\n",
              "      <td>13866662</td>\n",
              "      <td>06</td>\n",
              "    </tr>\n",
              "    <tr>\n",
              "      <th>2</th>\n",
              "      <td>2014-06-30</td>\n",
              "      <td>14990373</td>\n",
              "      <td>06</td>\n",
              "    </tr>\n",
              "    <tr>\n",
              "      <th>3</th>\n",
              "      <td>2014-09-18</td>\n",
              "      <td>19807601</td>\n",
              "      <td>09</td>\n",
              "    </tr>\n",
              "    <tr>\n",
              "      <th>4</th>\n",
              "      <td>2014-09-27</td>\n",
              "      <td>20322887</td>\n",
              "      <td>09</td>\n",
              "    </tr>\n",
              "    <tr>\n",
              "      <th>...</th>\n",
              "      <td>...</td>\n",
              "      <td>...</td>\n",
              "      <td>...</td>\n",
              "    </tr>\n",
              "    <tr>\n",
              "      <th>68270</th>\n",
              "      <td>2015-12-15</td>\n",
              "      <td>56653411</td>\n",
              "      <td>12</td>\n",
              "    </tr>\n",
              "    <tr>\n",
              "      <th>68271</th>\n",
              "      <td>2015-12-20</td>\n",
              "      <td>56988524</td>\n",
              "      <td>12</td>\n",
              "    </tr>\n",
              "    <tr>\n",
              "      <th>68272</th>\n",
              "      <td>2016-08-27</td>\n",
              "      <td>97439523</td>\n",
              "      <td>08</td>\n",
              "    </tr>\n",
              "    <tr>\n",
              "      <th>68273</th>\n",
              "      <td>2016-08-27</td>\n",
              "      <td>97541584</td>\n",
              "      <td>08</td>\n",
              "    </tr>\n",
              "    <tr>\n",
              "      <th>68274</th>\n",
              "      <td>2016-09-04</td>\n",
              "      <td>99363053</td>\n",
              "      <td>09</td>\n",
              "    </tr>\n",
              "  </tbody>\n",
              "</table>\n",
              "<p>68275 rows × 3 columns</p>\n",
              "</div>"
            ],
            "text/plain": [
              "            date  review_id month\n",
              "0     2014-06-01   13631717    06\n",
              "1     2014-06-06   13866662    06\n",
              "2     2014-06-30   14990373    06\n",
              "3     2014-09-18   19807601    09\n",
              "4     2014-09-27   20322887    09\n",
              "...          ...        ...   ...\n",
              "68270 2015-12-15   56653411    12\n",
              "68271 2015-12-20   56988524    12\n",
              "68272 2016-08-27   97439523    08\n",
              "68273 2016-08-27   97541584    08\n",
              "68274 2016-09-04   99363053    09\n",
              "\n",
              "[68275 rows x 3 columns]"
            ]
          },
          "execution_count": 38,
          "metadata": {},
          "output_type": "execute_result"
        }
      ],
      "source": [
        "# Consider month only\n",
        "question1['month'] = question1['date'].dt.strftime('%m')\n",
        "question1"
      ]
    },
    {
      "cell_type": "code",
      "execution_count": null,
      "id": "oX2qpmXqRTa6",
      "metadata": {
        "colab": {
          "base_uri": "https://localhost:8080/"
        },
        "id": "oX2qpmXqRTa6",
        "outputId": "aadd455b-6e89-407c-c994-bb668331880a"
      },
      "outputs": [
        {
          "data": {
            "text/plain": [
              "month\n",
              "01     2119\n",
              "02     1964\n",
              "03     3853\n",
              "04     6116\n",
              "05     8115\n",
              "06     8369\n",
              "07     9333\n",
              "08    10345\n",
              "09     5985\n",
              "10     6095\n",
              "11     3729\n",
              "12     2252\n",
              "Name: review_id, dtype: int64"
            ]
          },
          "execution_count": 39,
          "metadata": {},
          "output_type": "execute_result"
        }
      ],
      "source": [
        "review_count_by_month = question1.groupby(['month'])['review_id'].count()\n",
        "review_count_by_month"
      ]
    },
    {
      "cell_type": "markdown",
      "id": "h-yOIJBC29Nf",
      "metadata": {
        "id": "h-yOIJBC29Nf"
      },
      "source": [
        "#3. Do prices vary over the course of the year? What are prices like each month? "
      ]
    },
    {
      "cell_type": "code",
      "execution_count": null,
      "id": "VJC2DLflChUb",
      "metadata": {
        "id": "VJC2DLflChUb"
      },
      "outputs": [],
      "source": [
        "boston_price_over_year = boston_df.groupby(boston_df['date'].dt.month)['price'].mean()"
      ]
    },
    {
      "cell_type": "code",
      "execution_count": null,
      "id": "goWLNByKDSg1",
      "metadata": {
        "colab": {
          "base_uri": "https://localhost:8080/"
        },
        "id": "goWLNByKDSg1",
        "outputId": "90e33f59-768b-499c-e146-197224ad959d"
      },
      "outputs": [
        {
          "data": {
            "text/plain": [
              "date\n",
              "1     148.931100\n",
              "2     148.125255\n",
              "3     146.942123\n",
              "4     147.554447\n",
              "5     148.051510\n",
              "6     145.686462\n",
              "7     148.926605\n",
              "8     144.000000\n",
              "9     145.450627\n",
              "10    151.403117\n",
              "11    148.405739\n",
              "12    146.158526\n",
              "Name: price, dtype: float64"
            ]
          },
          "execution_count": 41,
          "metadata": {},
          "output_type": "execute_result"
        }
      ],
      "source": [
        "boston_price_over_year"
      ]
    },
    {
      "cell_type": "code",
      "execution_count": null,
      "id": "b8eacab6-3ac9-4bcc-9d28-64633f9dfbfb",
      "metadata": {
        "colab": {
          "base_uri": "https://localhost:8080/"
        },
        "id": "b8eacab6-3ac9-4bcc-9d28-64633f9dfbfb",
        "outputId": "bbe9914d-bb36-4f4e-8c5f-563d4dcc30d5"
      },
      "outputs": [
        {
          "data": {
            "text/plain": [
              "array(['01', '02', '03', '04', '05', '06', '07', '08', '09', '10', '11',\n",
              "       '12'], dtype=object)"
            ]
          },
          "execution_count": 42,
          "metadata": {},
          "output_type": "execute_result"
        }
      ],
      "source": [
        "x = question1['month'].unique()\n",
        "x.sort()\n",
        "x"
      ]
    },
    {
      "cell_type": "code",
      "execution_count": null,
      "id": "c1e06cd9-1555-41fa-8643-8423eb1166b3",
      "metadata": {
        "colab": {
          "base_uri": "https://localhost:8080/",
          "height": 295
        },
        "id": "c1e06cd9-1555-41fa-8643-8423eb1166b3",
        "outputId": "fdbeff02-2372-4561-f864-30ed2601895f"
      },
      "outputs": [
        {
          "data": {
            "image/png": "[encoded data removed]",
            "text/plain": [
              "<Figure size 640x480 with 1 Axes>"
            ]
          },
          "metadata": {},
          "output_type": "display_data"
        }
      ],
      "source": [
        "## Graph the price over a year ('add Jan, Feb, ... instead of the numbers...')\n",
        "x = ['Jan', 'Feb', 'Mar', 'Apr', 'May', 'Jun', 'Jul', 'Aug', 'Sep', 'Oct', 'Nov', 'Dec']\n",
        "y = boston_df.groupby(boston_df['date'].dt.month)['price'].mean()\n",
        "plt.plot(x,y,'r')\n",
        "plt.xlabel('Month')\n",
        "plt.ylabel('Avg $ Price')\n",
        "plt.title ('Average price over year')\n",
        "plt.xlim([x[0],x[-1]])\n",
        "plt.show()"
      ]
    },
    {
      "cell_type": "markdown",
      "id": "ivIE8VB-SU2G",
      "metadata": {
        "id": "ivIE8VB-SU2G"
      },
      "source": [
        "#4. Does the price fluctuate based on parking availability or other amenities?"
      ]
    },
    {
      "cell_type": "markdown",
      "id": "QtnTGlqFDcLk",
      "metadata": {
        "id": "QtnTGlqFDcLk"
      },
      "source": [
        "## Preparing data for the pricing model\n",
        "\n",
        "Extract/process columns that may fluctuate the pricing model."
      ]
    },
    {
      "cell_type": "code",
      "execution_count": null,
      "id": "lyIpc7i26Pi1",
      "metadata": {
        "id": "lyIpc7i26Pi1"
      },
      "outputs": [],
      "source": [
        "boston_pricing = boston_listing[['id', 'price', 'property_type', 'room_type', 'accommodates', 'bathrooms', 'bedrooms', 'beds', 'amenities']].copy()"
      ]
    },
    {
      "cell_type": "code",
      "execution_count": null,
      "id": "aL-ymH-u6DjZ",
      "metadata": {
        "colab": {
          "base_uri": "https://localhost:8080/",
          "height": 346
        },
        "id": "aL-ymH-u6DjZ",
        "outputId": "061ee3c5-869d-4ac5-a039-1507f8b07d42"
      },
      "outputs": [
        {
          "data": {
            "text/html": [
              "<div>\n",
              "<style scoped>\n",
              "    .dataframe tbody tr th:only-of-type {\n",
              "        vertical-align: middle;\n",
              "    }\n",
              "\n",
              "    .dataframe tbody tr th {\n",
              "        vertical-align: top;\n",
              "    }\n",
              "\n",
              "    .dataframe thead th {\n",
              "        text-align: right;\n",
              "    }\n",
              "</style>\n",
              "<table border=\"1\" class=\"dataframe\">\n",
              "  <thead>\n",
              "    <tr style=\"text-align: right;\">\n",
              "      <th></th>\n",
              "      <th>id</th>\n",
              "      <th>price</th>\n",
              "      <th>property_type</th>\n",
              "      <th>room_type</th>\n",
              "      <th>accommodates</th>\n",
              "      <th>bathrooms</th>\n",
              "      <th>bedrooms</th>\n",
              "      <th>beds</th>\n",
              "      <th>amenities</th>\n",
              "    </tr>\n",
              "  </thead>\n",
              "  <tbody>\n",
              "    <tr>\n",
              "      <th>0</th>\n",
              "      <td>12147973</td>\n",
              "      <td>250.0</td>\n",
              "      <td>House</td>\n",
              "      <td>Entire home/apt</td>\n",
              "      <td>4</td>\n",
              "      <td>1.5</td>\n",
              "      <td>2.0</td>\n",
              "      <td>3.0</td>\n",
              "      <td>{TV,\"Wireless Internet\",Kitchen,\"Free Parking ...</td>\n",
              "    </tr>\n",
              "    <tr>\n",
              "      <th>1</th>\n",
              "      <td>3075044</td>\n",
              "      <td>65.0</td>\n",
              "      <td>Apartment</td>\n",
              "      <td>Private room</td>\n",
              "      <td>2</td>\n",
              "      <td>1.0</td>\n",
              "      <td>1.0</td>\n",
              "      <td>1.0</td>\n",
              "      <td>{TV,Internet,\"Wireless Internet\",\"Air Conditio...</td>\n",
              "    </tr>\n",
              "    <tr>\n",
              "      <th>2</th>\n",
              "      <td>6976</td>\n",
              "      <td>65.0</td>\n",
              "      <td>Apartment</td>\n",
              "      <td>Private room</td>\n",
              "      <td>2</td>\n",
              "      <td>1.0</td>\n",
              "      <td>1.0</td>\n",
              "      <td>1.0</td>\n",
              "      <td>{TV,\"Cable TV\",\"Wireless Internet\",\"Air Condit...</td>\n",
              "    </tr>\n",
              "    <tr>\n",
              "      <th>3</th>\n",
              "      <td>1436513</td>\n",
              "      <td>75.0</td>\n",
              "      <td>House</td>\n",
              "      <td>Private room</td>\n",
              "      <td>4</td>\n",
              "      <td>1.0</td>\n",
              "      <td>1.0</td>\n",
              "      <td>2.0</td>\n",
              "      <td>{TV,Internet,\"Wireless Internet\",\"Air Conditio...</td>\n",
              "    </tr>\n",
              "    <tr>\n",
              "      <th>4</th>\n",
              "      <td>7651065</td>\n",
              "      <td>79.0</td>\n",
              "      <td>House</td>\n",
              "      <td>Private room</td>\n",
              "      <td>2</td>\n",
              "      <td>1.5</td>\n",
              "      <td>1.0</td>\n",
              "      <td>2.0</td>\n",
              "      <td>{Internet,\"Wireless Internet\",\"Air Conditionin...</td>\n",
              "    </tr>\n",
              "  </tbody>\n",
              "</table>\n",
              "</div>"
            ],
            "text/plain": [
              "         id  price property_type        room_type  accommodates  bathrooms  \\\n",
              "0  12147973  250.0         House  Entire home/apt             4        1.5   \n",
              "1   3075044   65.0     Apartment     Private room             2        1.0   \n",
              "2      6976   65.0     Apartment     Private room             2        1.0   \n",
              "3   1436513   75.0         House     Private room             4        1.0   \n",
              "4   7651065   79.0         House     Private room             2        1.5   \n",
              "\n",
              "   bedrooms  beds                                          amenities  \n",
              "0       2.0   3.0  {TV,\"Wireless Internet\",Kitchen,\"Free Parking ...  \n",
              "1       1.0   1.0  {TV,Internet,\"Wireless Internet\",\"Air Conditio...  \n",
              "2       1.0   1.0  {TV,\"Cable TV\",\"Wireless Internet\",\"Air Condit...  \n",
              "3       1.0   2.0  {TV,Internet,\"Wireless Internet\",\"Air Conditio...  \n",
              "4       1.0   2.0  {Internet,\"Wireless Internet\",\"Air Conditionin...  "
            ]
          },
          "execution_count": 45,
          "metadata": {},
          "output_type": "execute_result"
        }
      ],
      "source": [
        "boston_pricing.head()"
      ]
    },
    {
      "cell_type": "code",
      "execution_count": null,
      "id": "ThJKrbnZ6AMB",
      "metadata": {
        "colab": {
          "base_uri": "https://localhost:8080/"
        },
        "id": "ThJKrbnZ6AMB",
        "outputId": "4648de6f-0f4c-49a7-9bf6-10b28c17f0bd"
      },
      "outputs": [
        {
          "data": {
            "text/plain": [
              "count    3585.000000\n",
              "mean      173.925802\n",
              "std       148.331321\n",
              "min        10.000000\n",
              "25%        85.000000\n",
              "50%       150.000000\n",
              "75%       220.000000\n",
              "max      4000.000000\n",
              "Name: price, dtype: float64"
            ]
          },
          "execution_count": 46,
          "metadata": {},
          "output_type": "execute_result"
        }
      ],
      "source": [
        "boston_pricing['price'].describe()"
      ]
    },
    {
      "cell_type": "code",
      "execution_count": null,
      "id": "xngIO-vq_aOG",
      "metadata": {
        "colab": {
          "base_uri": "https://localhost:8080/"
        },
        "id": "xngIO-vq_aOG",
        "outputId": "8978a5a3-89be-496d-a1a7-9a9dc47692ef"
      },
      "outputs": [
        {
          "data": {
            "text/plain": [
              "count    3585.000000\n",
              "mean        3.041283\n",
              "std         1.778929\n",
              "min         1.000000\n",
              "25%         2.000000\n",
              "50%         2.000000\n",
              "75%         4.000000\n",
              "max        16.000000\n",
              "Name: accommodates, dtype: float64"
            ]
          },
          "execution_count": 47,
          "metadata": {},
          "output_type": "execute_result"
        }
      ],
      "source": [
        "boston_pricing['accommodates'].describe()"
      ]
    },
    {
      "cell_type": "code",
      "execution_count": null,
      "id": "TMTl8pFf_u3L",
      "metadata": {
        "colab": {
          "base_uri": "https://localhost:8080/"
        },
        "id": "TMTl8pFf_u3L",
        "outputId": "af71e7e0-81fe-4b83-f5c1-8167125e883b"
      },
      "outputs": [
        {
          "data": {
            "text/plain": [
              "count     3585\n",
              "unique    3092\n",
              "top         {}\n",
              "freq        32\n",
              "Name: amenities, dtype: object"
            ]
          },
          "execution_count": 48,
          "metadata": {},
          "output_type": "execute_result"
        }
      ],
      "source": [
        "boston_pricing['amenities'].describe()"
      ]
    },
    {
      "cell_type": "code",
      "execution_count": null,
      "id": "y0U2jfMS_9ZV",
      "metadata": {
        "colab": {
          "base_uri": "https://localhost:8080/",
          "height": 53
        },
        "id": "y0U2jfMS_9ZV",
        "outputId": "097ec0ee-fe56-4a6a-c5b2-0259a6a17a7c"
      },
      "outputs": [
        {
          "data": {
            "text/plain": [
              "'{TV,\"Wireless Internet\",Kitchen,\"Free Parking on Premises\",\"Pets live on this property\",Dog(s),Heating,\"Family/Kid Friendly\",Washer,Dryer,\"Smoke Detector\",\"Fire Extinguisher\",Essentials,Shampoo,\"Laptop Friendly Workspace\"}'"
            ]
          },
          "execution_count": 49,
          "metadata": {},
          "output_type": "execute_result"
        }
      ],
      "source": [
        "boston_pricing['amenities'][0]"
      ]
    },
    {
      "cell_type": "code",
      "execution_count": null,
      "id": "o8SYCTXXAgKm",
      "metadata": {
        "id": "o8SYCTXXAgKm"
      },
      "outputs": [],
      "source": [
        "# Count number of amenities\n",
        "boston_pricing['num_amenities'] = boston_pricing['amenities'].str.count(',') + 1"
      ]
    },
    {
      "cell_type": "code",
      "execution_count": null,
      "id": "ex3m-7aXBQd9",
      "metadata": {
        "id": "ex3m-7aXBQd9"
      },
      "outputs": [],
      "source": [
        "# May consider some specific amentities, e.g. Kitchen, allowed pets?\n",
        "boston_pricing['kitchen'] = boston_pricing['amenities'].str.contains('kitchen', case=False)\n",
        "boston_pricing['pets_allowed'] = boston_pricing['amenities'].str.contains('Pets Allowed', case=False)\n",
        "boston_pricing['free_parking'] = boston_pricing['amenities'].str.contains('Free Parking', case=False)"
      ]
    },
    {
      "cell_type": "code",
      "execution_count": null,
      "id": "4gW1lFYzGshA",
      "metadata": {
        "colab": {
          "base_uri": "https://localhost:8080/",
          "height": 300
        },
        "id": "4gW1lFYzGshA",
        "outputId": "3062f16e-85a7-4ae5-d048-b23b2ed29938"
      },
      "outputs": [
        {
          "data": {
            "text/html": [
              "<div>\n",
              "<style scoped>\n",
              "    .dataframe tbody tr th:only-of-type {\n",
              "        vertical-align: middle;\n",
              "    }\n",
              "\n",
              "    .dataframe tbody tr th {\n",
              "        vertical-align: top;\n",
              "    }\n",
              "\n",
              "    .dataframe thead th {\n",
              "        text-align: right;\n",
              "    }\n",
              "</style>\n",
              "<table border=\"1\" class=\"dataframe\">\n",
              "  <thead>\n",
              "    <tr style=\"text-align: right;\">\n",
              "      <th></th>\n",
              "      <th>id</th>\n",
              "      <th>price</th>\n",
              "      <th>accommodates</th>\n",
              "      <th>bathrooms</th>\n",
              "      <th>bedrooms</th>\n",
              "      <th>beds</th>\n",
              "      <th>num_amenities</th>\n",
              "    </tr>\n",
              "  </thead>\n",
              "  <tbody>\n",
              "    <tr>\n",
              "      <th>count</th>\n",
              "      <td>3.585000e+03</td>\n",
              "      <td>3585.000000</td>\n",
              "      <td>3585.000000</td>\n",
              "      <td>3571.000000</td>\n",
              "      <td>3575.000000</td>\n",
              "      <td>3576.000000</td>\n",
              "      <td>3585.000000</td>\n",
              "    </tr>\n",
              "    <tr>\n",
              "      <th>mean</th>\n",
              "      <td>8.440875e+06</td>\n",
              "      <td>173.925802</td>\n",
              "      <td>3.041283</td>\n",
              "      <td>1.221647</td>\n",
              "      <td>1.255944</td>\n",
              "      <td>1.609060</td>\n",
              "      <td>15.862762</td>\n",
              "    </tr>\n",
              "    <tr>\n",
              "      <th>std</th>\n",
              "      <td>4.500787e+06</td>\n",
              "      <td>148.331321</td>\n",
              "      <td>1.778929</td>\n",
              "      <td>0.501487</td>\n",
              "      <td>0.753060</td>\n",
              "      <td>1.011745</td>\n",
              "      <td>4.832590</td>\n",
              "    </tr>\n",
              "    <tr>\n",
              "      <th>min</th>\n",
              "      <td>3.353000e+03</td>\n",
              "      <td>10.000000</td>\n",
              "      <td>1.000000</td>\n",
              "      <td>0.000000</td>\n",
              "      <td>0.000000</td>\n",
              "      <td>0.000000</td>\n",
              "      <td>1.000000</td>\n",
              "    </tr>\n",
              "    <tr>\n",
              "      <th>25%</th>\n",
              "      <td>4.679319e+06</td>\n",
              "      <td>85.000000</td>\n",
              "      <td>2.000000</td>\n",
              "      <td>1.000000</td>\n",
              "      <td>1.000000</td>\n",
              "      <td>1.000000</td>\n",
              "      <td>13.000000</td>\n",
              "    </tr>\n",
              "    <tr>\n",
              "      <th>50%</th>\n",
              "      <td>8.577620e+06</td>\n",
              "      <td>150.000000</td>\n",
              "      <td>2.000000</td>\n",
              "      <td>1.000000</td>\n",
              "      <td>1.000000</td>\n",
              "      <td>1.000000</td>\n",
              "      <td>16.000000</td>\n",
              "    </tr>\n",
              "    <tr>\n",
              "      <th>75%</th>\n",
              "      <td>1.278953e+07</td>\n",
              "      <td>220.000000</td>\n",
              "      <td>4.000000</td>\n",
              "      <td>1.000000</td>\n",
              "      <td>2.000000</td>\n",
              "      <td>2.000000</td>\n",
              "      <td>19.000000</td>\n",
              "    </tr>\n",
              "    <tr>\n",
              "      <th>max</th>\n",
              "      <td>1.493346e+07</td>\n",
              "      <td>4000.000000</td>\n",
              "      <td>16.000000</td>\n",
              "      <td>6.000000</td>\n",
              "      <td>5.000000</td>\n",
              "      <td>16.000000</td>\n",
              "      <td>31.000000</td>\n",
              "    </tr>\n",
              "  </tbody>\n",
              "</table>\n",
              "</div>"
            ],
            "text/plain": [
              "                 id        price  accommodates    bathrooms     bedrooms  \\\n",
              "count  3.585000e+03  3585.000000   3585.000000  3571.000000  3575.000000   \n",
              "mean   8.440875e+06   173.925802      3.041283     1.221647     1.255944   \n",
              "std    4.500787e+06   148.331321      1.778929     0.501487     0.753060   \n",
              "min    3.353000e+03    10.000000      1.000000     0.000000     0.000000   \n",
              "25%    4.679319e+06    85.000000      2.000000     1.000000     1.000000   \n",
              "50%    8.577620e+06   150.000000      2.000000     1.000000     1.000000   \n",
              "75%    1.278953e+07   220.000000      4.000000     1.000000     2.000000   \n",
              "max    1.493346e+07  4000.000000     16.000000     6.000000     5.000000   \n",
              "\n",
              "              beds  num_amenities  \n",
              "count  3576.000000    3585.000000  \n",
              "mean      1.609060      15.862762  \n",
              "std       1.011745       4.832590  \n",
              "min       0.000000       1.000000  \n",
              "25%       1.000000      13.000000  \n",
              "50%       1.000000      16.000000  \n",
              "75%       2.000000      19.000000  \n",
              "max      16.000000      31.000000  "
            ]
          },
          "execution_count": 52,
          "metadata": {},
          "output_type": "execute_result"
        }
      ],
      "source": [
        "boston_pricing.describe()"
      ]
    },
    {
      "cell_type": "markdown",
      "id": "D7u11IjEMY8O",
      "metadata": {
        "id": "D7u11IjEMY8O"
      },
      "source": [
        "## Take care of missing data"
      ]
    },
    {
      "cell_type": "code",
      "execution_count": null,
      "id": "EEMeIfMFKTaP",
      "metadata": {
        "colab": {
          "base_uri": "https://localhost:8080/"
        },
        "id": "EEMeIfMFKTaP",
        "outputId": "b357f607-1de4-4def-a672-2e51313ea849"
      },
      "outputs": [
        {
          "data": {
            "text/plain": [
              "id                0\n",
              "price             0\n",
              "property_type     3\n",
              "room_type         0\n",
              "accommodates      0\n",
              "bathrooms        14\n",
              "bedrooms         10\n",
              "beds              9\n",
              "amenities         0\n",
              "num_amenities     0\n",
              "kitchen           0\n",
              "pets_allowed      0\n",
              "free_parking      0\n",
              "dtype: int64"
            ]
          },
          "execution_count": 53,
          "metadata": {},
          "output_type": "execute_result"
        }
      ],
      "source": [
        "# Check if some columns has NaN values\n",
        "boston_pricing.isna().sum()"
      ]
    },
    {
      "cell_type": "code",
      "execution_count": null,
      "id": "c3aed8c5-b05b-4282-bd61-3182695bfbc6",
      "metadata": {
        "id": "c3aed8c5-b05b-4282-bd61-3182695bfbc6"
      },
      "outputs": [],
      "source": [
        "# Fill in NA with the mean value\n",
        "boston_pricing[\"bathrooms\"] = boston_pricing[\"bathrooms\"].fillna(boston_pricing[\"bathrooms\"].mean())\n",
        "boston_pricing[\"bedrooms\"] = boston_pricing[\"bedrooms\"].fillna(boston_pricing[\"bedrooms\"].mean())\n",
        "boston_pricing[\"beds\"] = boston_pricing[\"beds\"].fillna(boston_pricing[\"beds\"].mean())"
      ]
    },
    {
      "cell_type": "code",
      "execution_count": null,
      "id": "qI6HIc3MLWeE",
      "metadata": {
        "colab": {
          "base_uri": "https://localhost:8080/"
        },
        "id": "qI6HIc3MLWeE",
        "outputId": "f04aee8a-ec90-42c0-d84c-c62d97795518"
      },
      "outputs": [
        {
          "data": {
            "text/plain": [
              "count          3582\n",
              "unique           13\n",
              "top       Apartment\n",
              "freq           2612\n",
              "Name: property_type, dtype: object"
            ]
          },
          "execution_count": 55,
          "metadata": {},
          "output_type": "execute_result"
        }
      ],
      "source": [
        "boston_pricing['property_type'].describe()"
      ]
    },
    {
      "cell_type": "code",
      "execution_count": null,
      "id": "Xfpmsy4tLdcs",
      "metadata": {
        "id": "Xfpmsy4tLdcs"
      },
      "outputs": [],
      "source": [
        "# For 'property_type' (which is not number, so we don't have mean), we fill NA with the most popular value which is \"Apartment\"\n",
        "boston_pricing['property_type'] = boston_pricing['property_type'].fillna('Apartment')\n"
      ]
    },
    {
      "cell_type": "code",
      "execution_count": null,
      "id": "u_dDQ6NoK_8N",
      "metadata": {
        "colab": {
          "base_uri": "https://localhost:8080/"
        },
        "id": "u_dDQ6NoK_8N",
        "outputId": "91a86220-8bd9-4de1-fa06-1375fdc5bdf7"
      },
      "outputs": [
        {
          "data": {
            "text/plain": [
              "id               0\n",
              "price            0\n",
              "property_type    0\n",
              "room_type        0\n",
              "accommodates     0\n",
              "bathrooms        0\n",
              "bedrooms         0\n",
              "beds             0\n",
              "amenities        0\n",
              "num_amenities    0\n",
              "kitchen          0\n",
              "pets_allowed     0\n",
              "free_parking     0\n",
              "dtype: int64"
            ]
          },
          "execution_count": 57,
          "metadata": {},
          "output_type": "execute_result"
        }
      ],
      "source": [
        "# Check NA again in the entire dataset\n",
        "boston_pricing.isna().sum()"
      ]
    },
    {
      "cell_type": "markdown",
      "id": "ZEVeQh2gFOY2",
      "metadata": {
        "id": "ZEVeQh2gFOY2"
      },
      "source": [
        "## Split Training/Testing"
      ]
    },
    {
      "cell_type": "code",
      "execution_count": null,
      "id": "W4lWvpy6SWV-",
      "metadata": {
        "id": "W4lWvpy6SWV-"
      },
      "outputs": [],
      "source": [
        "from sklearn.model_selection import train_test_split\n",
        "X, X_test, y, y_test = train_test_split(\n",
        "    boston_pricing[['accommodates', 'bathrooms', 'bedrooms', 'beds', 'num_amenities', 'kitchen', 'pets_allowed', 'free_parking']],\n",
        "    boston_pricing['price'],\n",
        "    test_size=0.2, random_state=42)"
      ]
    },
    {
      "cell_type": "markdown",
      "id": "t0hBafn0QOZu",
      "metadata": {
        "id": "t0hBafn0QOZu"
      },
      "source": [
        "## Linear Regression"
      ]
    },
    {
      "cell_type": "code",
      "execution_count": null,
      "id": "owG1nSrZQUwy",
      "metadata": {
        "colab": {
          "base_uri": "https://localhost:8080/",
          "height": 771
        },
        "id": "owG1nSrZQUwy",
        "outputId": "882d4256-b0a0-45b1-e19c-c9217e92de3d"
      },
      "outputs": [
        {
          "data": {
            "image/png": "[encoded data removed]",
            "text/plain": [
              "<Figure size 1200x500 with 1 Axes>"
            ]
          },
          "metadata": {},
          "output_type": "display_data"
        },
        {
          "name": "stdout",
          "output_type": "stream",
          "text": [
            "R2 Score:  0.28025901242948337\n",
            "Average Coefficients:  19.858770211025202\n",
            "Root Mean Squared Error:  116.27634049501663\n"
          ]
        },
        {
          "name": "stderr",
          "output_type": "stream",
          "text": [
            "/Users/bdamadi/Library/jupyterlab-desktop/jlab_server/lib/python3.8/site-packages/seaborn/_decorators.py:36: FutureWarning: Pass the following variables as keyword args: x, y. From version 0.12, the only valid positional argument will be `data`, and passing other arguments without an explicit keyword will result in an error or misinterpretation.\n",
            "  warnings.warn(\n"
          ]
        },
        {
          "data": {
            "image/png": "[encoded data removed]",
            "text/plain": [
              "<Figure size 640x480 with 1 Axes>"
            ]
          },
          "metadata": {},
          "output_type": "display_data"
        }
      ],
      "source": [
        "# https://medium.com/hanman/data-modeling-building-a-house-price-prediction-model-1450f825073b\n",
        "from sklearn.linear_model import LinearRegression\n",
        "from math import sqrt\n",
        "\n",
        "lr = LinearRegression()\n",
        "lr_model = lr.fit(X, y)\n",
        "y_pred = lr_model.predict(X)\n",
        "\n",
        "lr_r2 = r2_score(y, y_pred)\n",
        "bx=plt.subplots(figsize=(12,5))\n",
        "bx= sns.barplot(x=0, y=1, data=pd.DataFrame(zip(X.columns, lr_model.coef_)))\n",
        "plt.xticks(rotation='vertical')\n",
        "plt.xlabel(\"Model Coefficient Types\")\n",
        "plt.ylabel(\"Model Coefficient Values\")\n",
        "plt.show()\n",
        "print(\"R2 Score: \", (lr_r2))\n",
        "print(\"Average Coefficients: \", (abs(lr_model.coef_).mean()))\n",
        "print(\"Root Mean Squared Error: \", sqrt(mean_squared_error(y, y_pred)))\n",
        "ax = sns.regplot(y, y_pred)"
      ]
    },
    {
      "cell_type": "code",
      "execution_count": null,
      "id": "paHC1g7ZTrPq",
      "metadata": {
        "colab": {
          "base_uri": "https://localhost:8080/"
        },
        "id": "paHC1g7ZTrPq",
        "outputId": "ce32fdfc-a1bd-4589-831d-7c10468eb575"
      },
      "outputs": [
        {
          "data": {
            "text/plain": [
              "0.28440937036174246"
            ]
          },
          "execution_count": 61,
          "metadata": {},
          "output_type": "execute_result"
        }
      ],
      "source": [
        "##is a way that we can use our training data in order to get good estimates \n",
        "## how well our model will perform on data we haven't seen before \n",
        "from sklearn.model_selection import cross_val_score\n",
        "np.mean(cross_val_score(lr_model, X, y, n_jobs=1, cv=5))"
      ]
    },
    {
      "cell_type": "markdown",
      "id": "-k_o4-25anoo",
      "metadata": {
        "id": "-k_o4-25anoo"
      },
      "source": [
        "## Random Forest Regression"
      ]
    },
    {
      "cell_type": "code",
      "execution_count": null,
      "id": "e406beb0-fd77-446d-9c98-d6735966e2e1",
      "metadata": {
        "id": "e406beb0-fd77-446d-9c98-d6735966e2e1"
      },
      "outputs": [],
      "source": [
        "#Training the Regression model on the Training set\n",
        "from sklearn.ensemble import RandomForestRegressor\n",
        "regressor = RandomForestRegressor(n_estimators = 200, random_state = 0)\n",
        "regressor.fit(X, y)\n",
        "y_pred = regressor.predict(X)"
      ]
    },
    {
      "cell_type": "code",
      "execution_count": null,
      "id": "tmVxWsYQNBPL",
      "metadata": {
        "colab": {
          "base_uri": "https://localhost:8080/"
        },
        "id": "tmVxWsYQNBPL",
        "outputId": "ce963582-93c2-4103-e1f8-28d71c66d661"
      },
      "outputs": [
        {
          "name": "stdout",
          "output_type": "stream",
          "text": [
            "R2 Score: 0.7094437409413359\n",
            "Accuracy (%): 70.9443740941336\n"
          ]
        }
      ],
      "source": [
        "from sklearn.metrics import r2_score, accuracy_score\n",
        "\n",
        "print('R2 Score:', r2_score(y, y_pred))\n",
        "print('Accuracy (%):', regressor.score(X, y) * 100)"
      ]
    },
    {
      "cell_type": "code",
      "execution_count": null,
      "id": "a6ade43f-2b5f-424f-a536-01b24198787d",
      "metadata": {
        "id": "a6ade43f-2b5f-424f-a536-01b24198787d",
        "outputId": "e45fe4d8-3c81-4973-b2ac-eada837bd6b1"
      },
      "outputs": [
        {
          "name": "stdout",
          "output_type": "stream",
          "text": [
            "R2 Score: 0.1286139678853473\n"
          ]
        }
      ],
      "source": [
        "y_test_pred = regressor.predict(X_test)\n",
        "print('R2 Score:', r2_score(y_test,y_test_pred))"
      ]
    }
  ],
  "metadata": {
    "colab": {
      "collapsed_sections": [],
      "provenance": []
    },
    "kernelspec": {
      "display_name": "Python 3 (ipykernel)",
      "language": "python",
      "name": "python3"
    },
    "language_info": {
      "codemirror_mode": {
        "name": "ipython",
        "version": 3
      },
      "file_extension": ".py",
      "mimetype": "text/x-python",
      "name": "python",
      "nbconvert_exporter": "python",
      "pygments_lexer": "ipython3",
      "version": "3.8.13"
    }
  },
  "nbformat": 4,
  "nbformat_minor": 5
}